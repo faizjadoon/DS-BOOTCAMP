{
  "nbformat": 4,
  "nbformat_minor": 0,
  "metadata": {
    "colab": {
      "provenance": []
    },
    "kernelspec": {
      "name": "python3",
      "display_name": "Python 3"
    },
    "language_info": {
      "name": "python"
    }
  },
  "cells": [
    {
      "cell_type": "markdown",
      "source": [
        "Gather Data (https://www.kaggle.com/competitions/titanic/data)"
      ],
      "metadata": {
        "id": "VRYfE6sXX_uR"
      }
    },
    {
      "cell_type": "code",
      "execution_count": null,
      "metadata": {
        "id": "mDjkSVFkXyN0",
        "colab": {
          "base_uri": "https://localhost:8080/",
          "height": 884
        },
        "outputId": "c9fa5570-43c3-444f-fa08-20e8b1e94c3d"
      },
      "outputs": [
        {
          "output_type": "execute_result",
          "data": {
            "text/plain": [
              "     PassengerId  Survived  Pclass  \\\n",
              "0              1         0       3   \n",
              "1              2         1       1   \n",
              "2              3         1       3   \n",
              "3              4         1       1   \n",
              "4              5         0       3   \n",
              "..           ...       ...     ...   \n",
              "886          887         0       2   \n",
              "887          888         1       1   \n",
              "888          889         0       3   \n",
              "889          890         1       1   \n",
              "890          891         0       3   \n",
              "\n",
              "                                                  Name     Sex   Age  SibSp  \\\n",
              "0                              Braund, Mr. Owen Harris    male  22.0      1   \n",
              "1    Cumings, Mrs. John Bradley (Florence Briggs Th...  female  38.0      1   \n",
              "2                               Heikkinen, Miss. Laina  female  26.0      0   \n",
              "3         Futrelle, Mrs. Jacques Heath (Lily May Peel)  female  35.0      1   \n",
              "4                             Allen, Mr. William Henry    male  35.0      0   \n",
              "..                                                 ...     ...   ...    ...   \n",
              "886                              Montvila, Rev. Juozas    male  27.0      0   \n",
              "887                       Graham, Miss. Margaret Edith  female  19.0      0   \n",
              "888           Johnston, Miss. Catherine Helen \"Carrie\"  female   NaN      1   \n",
              "889                              Behr, Mr. Karl Howell    male  26.0      0   \n",
              "890                                Dooley, Mr. Patrick    male  32.0      0   \n",
              "\n",
              "     Parch            Ticket     Fare Cabin Embarked  \n",
              "0        0         A/5 21171   7.2500   NaN        S  \n",
              "1        0          PC 17599  71.2833   C85        C  \n",
              "2        0  STON/O2. 3101282   7.9250   NaN        S  \n",
              "3        0            113803  53.1000  C123        S  \n",
              "4        0            373450   8.0500   NaN        S  \n",
              "..     ...               ...      ...   ...      ...  \n",
              "886      0            211536  13.0000   NaN        S  \n",
              "887      0            112053  30.0000   B42        S  \n",
              "888      2        W./C. 6607  23.4500   NaN        S  \n",
              "889      0            111369  30.0000  C148        C  \n",
              "890      0            370376   7.7500   NaN        Q  \n",
              "\n",
              "[891 rows x 12 columns]"
            ],
            "text/html": [
              "\n",
              "\n",
              "  <div id=\"df-a2babfc5-4e8b-4e6a-926d-deee158231ff\">\n",
              "    <div class=\"colab-df-container\">\n",
              "      <div>\n",
              "<style scoped>\n",
              "    .dataframe tbody tr th:only-of-type {\n",
              "        vertical-align: middle;\n",
              "    }\n",
              "\n",
              "    .dataframe tbody tr th {\n",
              "        vertical-align: top;\n",
              "    }\n",
              "\n",
              "    .dataframe thead th {\n",
              "        text-align: right;\n",
              "    }\n",
              "</style>\n",
              "<table border=\"1\" class=\"dataframe\">\n",
              "  <thead>\n",
              "    <tr style=\"text-align: right;\">\n",
              "      <th></th>\n",
              "      <th>PassengerId</th>\n",
              "      <th>Survived</th>\n",
              "      <th>Pclass</th>\n",
              "      <th>Name</th>\n",
              "      <th>Sex</th>\n",
              "      <th>Age</th>\n",
              "      <th>SibSp</th>\n",
              "      <th>Parch</th>\n",
              "      <th>Ticket</th>\n",
              "      <th>Fare</th>\n",
              "      <th>Cabin</th>\n",
              "      <th>Embarked</th>\n",
              "    </tr>\n",
              "  </thead>\n",
              "  <tbody>\n",
              "    <tr>\n",
              "      <th>0</th>\n",
              "      <td>1</td>\n",
              "      <td>0</td>\n",
              "      <td>3</td>\n",
              "      <td>Braund, Mr. Owen Harris</td>\n",
              "      <td>male</td>\n",
              "      <td>22.0</td>\n",
              "      <td>1</td>\n",
              "      <td>0</td>\n",
              "      <td>A/5 21171</td>\n",
              "      <td>7.2500</td>\n",
              "      <td>NaN</td>\n",
              "      <td>S</td>\n",
              "    </tr>\n",
              "    <tr>\n",
              "      <th>1</th>\n",
              "      <td>2</td>\n",
              "      <td>1</td>\n",
              "      <td>1</td>\n",
              "      <td>Cumings, Mrs. John Bradley (Florence Briggs Th...</td>\n",
              "      <td>female</td>\n",
              "      <td>38.0</td>\n",
              "      <td>1</td>\n",
              "      <td>0</td>\n",
              "      <td>PC 17599</td>\n",
              "      <td>71.2833</td>\n",
              "      <td>C85</td>\n",
              "      <td>C</td>\n",
              "    </tr>\n",
              "    <tr>\n",
              "      <th>2</th>\n",
              "      <td>3</td>\n",
              "      <td>1</td>\n",
              "      <td>3</td>\n",
              "      <td>Heikkinen, Miss. Laina</td>\n",
              "      <td>female</td>\n",
              "      <td>26.0</td>\n",
              "      <td>0</td>\n",
              "      <td>0</td>\n",
              "      <td>STON/O2. 3101282</td>\n",
              "      <td>7.9250</td>\n",
              "      <td>NaN</td>\n",
              "      <td>S</td>\n",
              "    </tr>\n",
              "    <tr>\n",
              "      <th>3</th>\n",
              "      <td>4</td>\n",
              "      <td>1</td>\n",
              "      <td>1</td>\n",
              "      <td>Futrelle, Mrs. Jacques Heath (Lily May Peel)</td>\n",
              "      <td>female</td>\n",
              "      <td>35.0</td>\n",
              "      <td>1</td>\n",
              "      <td>0</td>\n",
              "      <td>113803</td>\n",
              "      <td>53.1000</td>\n",
              "      <td>C123</td>\n",
              "      <td>S</td>\n",
              "    </tr>\n",
              "    <tr>\n",
              "      <th>4</th>\n",
              "      <td>5</td>\n",
              "      <td>0</td>\n",
              "      <td>3</td>\n",
              "      <td>Allen, Mr. William Henry</td>\n",
              "      <td>male</td>\n",
              "      <td>35.0</td>\n",
              "      <td>0</td>\n",
              "      <td>0</td>\n",
              "      <td>373450</td>\n",
              "      <td>8.0500</td>\n",
              "      <td>NaN</td>\n",
              "      <td>S</td>\n",
              "    </tr>\n",
              "    <tr>\n",
              "      <th>...</th>\n",
              "      <td>...</td>\n",
              "      <td>...</td>\n",
              "      <td>...</td>\n",
              "      <td>...</td>\n",
              "      <td>...</td>\n",
              "      <td>...</td>\n",
              "      <td>...</td>\n",
              "      <td>...</td>\n",
              "      <td>...</td>\n",
              "      <td>...</td>\n",
              "      <td>...</td>\n",
              "      <td>...</td>\n",
              "    </tr>\n",
              "    <tr>\n",
              "      <th>886</th>\n",
              "      <td>887</td>\n",
              "      <td>0</td>\n",
              "      <td>2</td>\n",
              "      <td>Montvila, Rev. Juozas</td>\n",
              "      <td>male</td>\n",
              "      <td>27.0</td>\n",
              "      <td>0</td>\n",
              "      <td>0</td>\n",
              "      <td>211536</td>\n",
              "      <td>13.0000</td>\n",
              "      <td>NaN</td>\n",
              "      <td>S</td>\n",
              "    </tr>\n",
              "    <tr>\n",
              "      <th>887</th>\n",
              "      <td>888</td>\n",
              "      <td>1</td>\n",
              "      <td>1</td>\n",
              "      <td>Graham, Miss. Margaret Edith</td>\n",
              "      <td>female</td>\n",
              "      <td>19.0</td>\n",
              "      <td>0</td>\n",
              "      <td>0</td>\n",
              "      <td>112053</td>\n",
              "      <td>30.0000</td>\n",
              "      <td>B42</td>\n",
              "      <td>S</td>\n",
              "    </tr>\n",
              "    <tr>\n",
              "      <th>888</th>\n",
              "      <td>889</td>\n",
              "      <td>0</td>\n",
              "      <td>3</td>\n",
              "      <td>Johnston, Miss. Catherine Helen \"Carrie\"</td>\n",
              "      <td>female</td>\n",
              "      <td>NaN</td>\n",
              "      <td>1</td>\n",
              "      <td>2</td>\n",
              "      <td>W./C. 6607</td>\n",
              "      <td>23.4500</td>\n",
              "      <td>NaN</td>\n",
              "      <td>S</td>\n",
              "    </tr>\n",
              "    <tr>\n",
              "      <th>889</th>\n",
              "      <td>890</td>\n",
              "      <td>1</td>\n",
              "      <td>1</td>\n",
              "      <td>Behr, Mr. Karl Howell</td>\n",
              "      <td>male</td>\n",
              "      <td>26.0</td>\n",
              "      <td>0</td>\n",
              "      <td>0</td>\n",
              "      <td>111369</td>\n",
              "      <td>30.0000</td>\n",
              "      <td>C148</td>\n",
              "      <td>C</td>\n",
              "    </tr>\n",
              "    <tr>\n",
              "      <th>890</th>\n",
              "      <td>891</td>\n",
              "      <td>0</td>\n",
              "      <td>3</td>\n",
              "      <td>Dooley, Mr. Patrick</td>\n",
              "      <td>male</td>\n",
              "      <td>32.0</td>\n",
              "      <td>0</td>\n",
              "      <td>0</td>\n",
              "      <td>370376</td>\n",
              "      <td>7.7500</td>\n",
              "      <td>NaN</td>\n",
              "      <td>Q</td>\n",
              "    </tr>\n",
              "  </tbody>\n",
              "</table>\n",
              "<p>891 rows × 12 columns</p>\n",
              "</div>\n",
              "      <button class=\"colab-df-convert\" onclick=\"convertToInteractive('df-a2babfc5-4e8b-4e6a-926d-deee158231ff')\"\n",
              "              title=\"Convert this dataframe to an interactive table.\"\n",
              "              style=\"display:none;\">\n",
              "\n",
              "  <svg xmlns=\"http://www.w3.org/2000/svg\" height=\"24px\"viewBox=\"0 0 24 24\"\n",
              "       width=\"24px\">\n",
              "    <path d=\"M0 0h24v24H0V0z\" fill=\"none\"/>\n",
              "    <path d=\"M18.56 5.44l.94 2.06.94-2.06 2.06-.94-2.06-.94-.94-2.06-.94 2.06-2.06.94zm-11 1L8.5 8.5l.94-2.06 2.06-.94-2.06-.94L8.5 2.5l-.94 2.06-2.06.94zm10 10l.94 2.06.94-2.06 2.06-.94-2.06-.94-.94-2.06-.94 2.06-2.06.94z\"/><path d=\"M17.41 7.96l-1.37-1.37c-.4-.4-.92-.59-1.43-.59-.52 0-1.04.2-1.43.59L10.3 9.45l-7.72 7.72c-.78.78-.78 2.05 0 2.83L4 21.41c.39.39.9.59 1.41.59.51 0 1.02-.2 1.41-.59l7.78-7.78 2.81-2.81c.8-.78.8-2.07 0-2.86zM5.41 20L4 18.59l7.72-7.72 1.47 1.35L5.41 20z\"/>\n",
              "  </svg>\n",
              "      </button>\n",
              "\n",
              "\n",
              "\n",
              "    <div id=\"df-765aa66b-6732-420c-bb43-2b25973696b6\">\n",
              "      <button class=\"colab-df-quickchart\" onclick=\"quickchart('df-765aa66b-6732-420c-bb43-2b25973696b6')\"\n",
              "              title=\"Suggest charts.\"\n",
              "              style=\"display:none;\">\n",
              "\n",
              "<svg xmlns=\"http://www.w3.org/2000/svg\" height=\"24px\"viewBox=\"0 0 24 24\"\n",
              "     width=\"24px\">\n",
              "    <g>\n",
              "        <path d=\"M19 3H5c-1.1 0-2 .9-2 2v14c0 1.1.9 2 2 2h14c1.1 0 2-.9 2-2V5c0-1.1-.9-2-2-2zM9 17H7v-7h2v7zm4 0h-2V7h2v10zm4 0h-2v-4h2v4z\"/>\n",
              "    </g>\n",
              "</svg>\n",
              "      </button>\n",
              "    </div>\n",
              "\n",
              "<style>\n",
              "  .colab-df-quickchart {\n",
              "    background-color: #E8F0FE;\n",
              "    border: none;\n",
              "    border-radius: 50%;\n",
              "    cursor: pointer;\n",
              "    display: none;\n",
              "    fill: #1967D2;\n",
              "    height: 32px;\n",
              "    padding: 0 0 0 0;\n",
              "    width: 32px;\n",
              "  }\n",
              "\n",
              "  .colab-df-quickchart:hover {\n",
              "    background-color: #E2EBFA;\n",
              "    box-shadow: 0px 1px 2px rgba(60, 64, 67, 0.3), 0px 1px 3px 1px rgba(60, 64, 67, 0.15);\n",
              "    fill: #174EA6;\n",
              "  }\n",
              "\n",
              "  [theme=dark] .colab-df-quickchart {\n",
              "    background-color: #3B4455;\n",
              "    fill: #D2E3FC;\n",
              "  }\n",
              "\n",
              "  [theme=dark] .colab-df-quickchart:hover {\n",
              "    background-color: #434B5C;\n",
              "    box-shadow: 0px 1px 3px 1px rgba(0, 0, 0, 0.15);\n",
              "    filter: drop-shadow(0px 1px 2px rgba(0, 0, 0, 0.3));\n",
              "    fill: #FFFFFF;\n",
              "  }\n",
              "</style>\n",
              "\n",
              "    <script>\n",
              "      async function quickchart(key) {\n",
              "        const containerElement = document.querySelector('#' + key);\n",
              "        const charts = await google.colab.kernel.invokeFunction(\n",
              "            'suggestCharts', [key], {});\n",
              "      }\n",
              "    </script>\n",
              "\n",
              "      <script>\n",
              "\n",
              "function displayQuickchartButton(domScope) {\n",
              "  let quickchartButtonEl =\n",
              "    domScope.querySelector('#df-765aa66b-6732-420c-bb43-2b25973696b6 button.colab-df-quickchart');\n",
              "  quickchartButtonEl.style.display =\n",
              "    google.colab.kernel.accessAllowed ? 'block' : 'none';\n",
              "}\n",
              "\n",
              "        displayQuickchartButton(document);\n",
              "      </script>\n",
              "      <style>\n",
              "    .colab-df-container {\n",
              "      display:flex;\n",
              "      flex-wrap:wrap;\n",
              "      gap: 12px;\n",
              "    }\n",
              "\n",
              "    .colab-df-convert {\n",
              "      background-color: #E8F0FE;\n",
              "      border: none;\n",
              "      border-radius: 50%;\n",
              "      cursor: pointer;\n",
              "      display: none;\n",
              "      fill: #1967D2;\n",
              "      height: 32px;\n",
              "      padding: 0 0 0 0;\n",
              "      width: 32px;\n",
              "    }\n",
              "\n",
              "    .colab-df-convert:hover {\n",
              "      background-color: #E2EBFA;\n",
              "      box-shadow: 0px 1px 2px rgba(60, 64, 67, 0.3), 0px 1px 3px 1px rgba(60, 64, 67, 0.15);\n",
              "      fill: #174EA6;\n",
              "    }\n",
              "\n",
              "    [theme=dark] .colab-df-convert {\n",
              "      background-color: #3B4455;\n",
              "      fill: #D2E3FC;\n",
              "    }\n",
              "\n",
              "    [theme=dark] .colab-df-convert:hover {\n",
              "      background-color: #434B5C;\n",
              "      box-shadow: 0px 1px 3px 1px rgba(0, 0, 0, 0.15);\n",
              "      filter: drop-shadow(0px 1px 2px rgba(0, 0, 0, 0.3));\n",
              "      fill: #FFFFFF;\n",
              "    }\n",
              "  </style>\n",
              "\n",
              "      <script>\n",
              "        const buttonEl =\n",
              "          document.querySelector('#df-a2babfc5-4e8b-4e6a-926d-deee158231ff button.colab-df-convert');\n",
              "        buttonEl.style.display =\n",
              "          google.colab.kernel.accessAllowed ? 'block' : 'none';\n",
              "\n",
              "        async function convertToInteractive(key) {\n",
              "          const element = document.querySelector('#df-a2babfc5-4e8b-4e6a-926d-deee158231ff');\n",
              "          const dataTable =\n",
              "            await google.colab.kernel.invokeFunction('convertToInteractive',\n",
              "                                                     [key], {});\n",
              "          if (!dataTable) return;\n",
              "\n",
              "          const docLinkHtml = 'Like what you see? Visit the ' +\n",
              "            '<a target=\"_blank\" href=https://colab.research.google.com/notebooks/data_table.ipynb>data table notebook</a>'\n",
              "            + ' to learn more about interactive tables.';\n",
              "          element.innerHTML = '';\n",
              "          dataTable['output_type'] = 'display_data';\n",
              "          await google.colab.output.renderOutput(dataTable, element);\n",
              "          const docLink = document.createElement('div');\n",
              "          docLink.innerHTML = docLinkHtml;\n",
              "          element.appendChild(docLink);\n",
              "        }\n",
              "      </script>\n",
              "    </div>\n",
              "  </div>\n"
            ]
          },
          "metadata": {},
          "execution_count": 1
        }
      ],
      "source": [
        "import pandas as pd\n",
        "df = pd.read_csv('train.csv')\n",
        "df"
      ]
    },
    {
      "cell_type": "markdown",
      "source": [
        "'Survived': survival of passenger (0 = No, 1 = Yes)\n",
        "\n",
        "'Pclass': ticket class of passenger (1 = 1st, 2 = 2nd, 3 = 3rd)\n",
        "\n",
        "'Name': name of passenger\n",
        "\n",
        "'Sex': sex of passenger\n",
        "\n",
        "'Age': age in years of passenger\n",
        "\n",
        "'SibSp': # of siblings / spouses aboard the Titanic\n",
        "\n",
        "'Parch': # of parents / children aboard the Titanic\n",
        "\n",
        "'Ticket': Ticket number\n",
        "\n",
        "'Fare': Passenger fare\n",
        "\n",
        "'Cabin': Cabin number\n",
        "\n",
        "'Embarked': Port of Embarkation (C = Cherbourg, Q = Queenstown, S = Southampton)"
      ],
      "metadata": {
        "id": "tBxgKnPkY4bP"
      }
    },
    {
      "cell_type": "code",
      "source": [
        "df.isnull().sum()"
      ],
      "metadata": {
        "id": "6k7Al241YlIf",
        "colab": {
          "base_uri": "https://localhost:8080/"
        },
        "outputId": "8f411027-6ded-449c-81ab-23c415ae595a"
      },
      "execution_count": null,
      "outputs": [
        {
          "output_type": "execute_result",
          "data": {
            "text/plain": [
              "PassengerId      0\n",
              "Survived         0\n",
              "Pclass           0\n",
              "Name             0\n",
              "Sex              0\n",
              "Age            177\n",
              "SibSp            0\n",
              "Parch            0\n",
              "Ticket           0\n",
              "Fare             0\n",
              "Cabin          687\n",
              "Embarked         2\n",
              "dtype: int64"
            ]
          },
          "metadata": {},
          "execution_count": 2
        }
      ]
    },
    {
      "cell_type": "code",
      "source": [
        "df.info()"
      ],
      "metadata": {
        "id": "3wDDmWKQY0X_",
        "colab": {
          "base_uri": "https://localhost:8080/"
        },
        "outputId": "983e6205-7c00-44f7-e2f1-abba034e3cbe"
      },
      "execution_count": null,
      "outputs": [
        {
          "output_type": "stream",
          "name": "stdout",
          "text": [
            "<class 'pandas.core.frame.DataFrame'>\n",
            "RangeIndex: 891 entries, 0 to 890\n",
            "Data columns (total 12 columns):\n",
            " #   Column       Non-Null Count  Dtype  \n",
            "---  ------       --------------  -----  \n",
            " 0   PassengerId  891 non-null    int64  \n",
            " 1   Survived     891 non-null    int64  \n",
            " 2   Pclass       891 non-null    int64  \n",
            " 3   Name         891 non-null    object \n",
            " 4   Sex          891 non-null    object \n",
            " 5   Age          714 non-null    float64\n",
            " 6   SibSp        891 non-null    int64  \n",
            " 7   Parch        891 non-null    int64  \n",
            " 8   Ticket       891 non-null    object \n",
            " 9   Fare         891 non-null    float64\n",
            " 10  Cabin        204 non-null    object \n",
            " 11  Embarked     889 non-null    object \n",
            "dtypes: float64(2), int64(5), object(5)\n",
            "memory usage: 83.7+ KB\n"
          ]
        }
      ]
    },
    {
      "cell_type": "code",
      "source": [
        "print(df[['Age', 'SibSp', 'Parch', 'Fare']].describe())#int only describe excluding passengerid"
      ],
      "metadata": {
        "id": "rcZfUvP3ZOOE",
        "colab": {
          "base_uri": "https://localhost:8080/"
        },
        "outputId": "89900c6f-fe3a-4c15-a8c9-7ae902c6afb4"
      },
      "execution_count": null,
      "outputs": [
        {
          "output_type": "stream",
          "name": "stdout",
          "text": [
            "              Age       SibSp       Parch        Fare\n",
            "count  714.000000  891.000000  891.000000  891.000000\n",
            "mean    29.699118    0.523008    0.381594   32.204208\n",
            "std     14.526497    1.102743    0.806057   49.693429\n",
            "min      0.420000    0.000000    0.000000    0.000000\n",
            "25%     20.125000    0.000000    0.000000    7.910400\n",
            "50%     28.000000    0.000000    0.000000   14.454200\n",
            "75%     38.000000    1.000000    0.000000   31.000000\n",
            "max     80.000000    8.000000    6.000000  512.329200\n"
          ]
        }
      ]
    },
    {
      "cell_type": "markdown",
      "source": [
        "How many passengers survived in total, how many died?\n",
        "\n",
        "How many male and how many female passengers survived?\n",
        "\n",
        "How many passengers in 1st, 2nd, and 3rd class survived?\n"
      ],
      "metadata": {
        "id": "Tn_5FUOjZYNI"
      }
    },
    {
      "cell_type": "markdown",
      "source": [
        "# **How many passengers survived, how many died?**"
      ],
      "metadata": {
        "id": "CcnA9BQBZcc6"
      }
    },
    {
      "cell_type": "code",
      "source": [
        "df.columns"
      ],
      "metadata": {
        "id": "COJMWiiUZfwv",
        "colab": {
          "base_uri": "https://localhost:8080/"
        },
        "outputId": "442caa24-c38e-4491-999f-cb72488fbb23"
      },
      "execution_count": null,
      "outputs": [
        {
          "output_type": "execute_result",
          "data": {
            "text/plain": [
              "Index(['PassengerId', 'Survived', 'Pclass', 'Name', 'Sex', 'Age', 'SibSp',\n",
              "       'Parch', 'Ticket', 'Fare', 'Cabin', 'Embarked'],\n",
              "      dtype='object')"
            ]
          },
          "metadata": {},
          "execution_count": 5
        }
      ]
    },
    {
      "cell_type": "code",
      "source": [
        "df['Survived'].value_counts()"
      ],
      "metadata": {
        "id": "9Brv-gFxZdB3",
        "colab": {
          "base_uri": "https://localhost:8080/"
        },
        "outputId": "2cae3e49-72cc-480b-9c72-f1b9b6614da7"
      },
      "execution_count": null,
      "outputs": [
        {
          "output_type": "execute_result",
          "data": {
            "text/plain": [
              "0    549\n",
              "1    342\n",
              "Name: Survived, dtype: int64"
            ]
          },
          "metadata": {},
          "execution_count": 6
        }
      ]
    },
    {
      "cell_type": "code",
      "source": [
        "import seaborn as sns\n",
        "import matplotlib.pyplot as plt\n",
        "\n",
        "fig, ax = plt.subplots(figsize=(5, 3))\n",
        "sns.countplot(data=df, x='Survived')\n",
        "plt.title('Survival count')\n",
        "plt.show()"
      ],
      "metadata": {
        "id": "2m2AzL9RZ0AX",
        "colab": {
          "base_uri": "https://localhost:8080/",
          "height": 333
        },
        "outputId": "673ac097-37e6-40d6-bfec-95c1e203d83d"
      },
      "execution_count": null,
      "outputs": [
        {
          "output_type": "display_data",
          "data": {
            "text/plain": [
              "<Figure size 500x300 with 1 Axes>"
            ],
            "image/png": "[encoded data removed]"
          },
          "metadata": {}
        }
      ]
    },
    {
      "cell_type": "markdown",
      "source": [
        "# **How many male and how many female passengers survived?**"
      ],
      "metadata": {
        "id": "jOKLOTA0Z9l3"
      }
    },
    {
      "cell_type": "code",
      "source": [
        "print(df['Sex'].value_counts())"
      ],
      "metadata": {
        "id": "fWDKhJmkZ-S3",
        "colab": {
          "base_uri": "https://localhost:8080/"
        },
        "outputId": "1b8bfc15-0034-47c8-9f3c-2a42751a2699"
      },
      "execution_count": null,
      "outputs": [
        {
          "output_type": "stream",
          "name": "stdout",
          "text": [
            "male      577\n",
            "female    314\n",
            "Name: Sex, dtype: int64\n"
          ]
        }
      ]
    },
    {
      "cell_type": "code",
      "source": [
        "sex_survived = pd.crosstab(df['Sex'], df['Survived'])\n",
        "print(sex_survived)"
      ],
      "metadata": {
        "id": "ArPuTIhmaEhB",
        "colab": {
          "base_uri": "https://localhost:8080/"
        },
        "outputId": "f999d9a4-1d2f-4e22-a182-9a6c98a46958"
      },
      "execution_count": null,
      "outputs": [
        {
          "output_type": "stream",
          "name": "stdout",
          "text": [
            "Survived    0    1\n",
            "Sex               \n",
            "female     81  233\n",
            "male      468  109\n"
          ]
        }
      ]
    },
    {
      "cell_type": "code",
      "source": [
        "fig, ax = plt.subplots(figsize=(10, 5))\n",
        "sns.countplot(data=df, x='Sex', hue='Survived')\n",
        "plt.title('Survival count of female and male passengers')\n",
        "plt.show()"
      ],
      "metadata": {
        "id": "p2g4g1qwaVjH",
        "colab": {
          "base_uri": "https://localhost:8080/",
          "height": 480
        },
        "outputId": "6b0fbcc6-c037-423a-ba0f-ff0646636df6"
      },
      "execution_count": null,
      "outputs": [
        {
          "output_type": "display_data",
          "data": {
            "text/plain": [
              "<Figure size 1000x500 with 1 Axes>"
            ],
            "image/png": "[encoded data removed]"
          },
          "metadata": {}
        }
      ]
    },
    {
      "cell_type": "markdown",
      "source": [
        "# **I wonder how, I wonder why :3**"
      ],
      "metadata": {
        "id": "lZToVoYpajDo"
      }
    },
    {
      "cell_type": "markdown",
      "source": [
        "# **How is the distribution of age for those passengers that survived and those who died?**"
      ],
      "metadata": {
        "id": "3bCggrTJap7o"
      }
    },
    {
      "cell_type": "code",
      "source": [
        "age_survived = pd.crosstab(df['Age'], df['Survived'])\n",
        "print(age_survived)"
      ],
      "metadata": {
        "id": "LR40AdPearD5",
        "colab": {
          "base_uri": "https://localhost:8080/"
        },
        "outputId": "7920fbbe-bb0b-4c8c-b23b-77734d46afe6"
      },
      "execution_count": null,
      "outputs": [
        {
          "output_type": "stream",
          "name": "stdout",
          "text": [
            "Survived  0  1\n",
            "Age           \n",
            "0.42      0  1\n",
            "0.67      0  1\n",
            "0.75      0  2\n",
            "0.83      0  2\n",
            "0.92      0  1\n",
            "...      .. ..\n",
            "70.00     2  0\n",
            "70.50     1  0\n",
            "71.00     2  0\n",
            "74.00     1  0\n",
            "80.00     0  1\n",
            "\n",
            "[88 rows x 2 columns]\n"
          ]
        }
      ]
    },
    {
      "cell_type": "code",
      "source": [
        "fig, ax = plt.subplots(figsize=(20, 10))\n",
        "sns.histplot(data=df, x='Age', hue='Survived', bins=160, multiple='stack', ax=ax)\n",
        "plt.title('Survival count and Age')\n",
        "plt.show()"
      ],
      "metadata": {
        "id": "_D2pXO3aauaY",
        "colab": {
          "base_uri": "https://localhost:8080/",
          "height": 892
        },
        "outputId": "3447ee3d-e598-4d8d-a361-84615800023e"
      },
      "execution_count": null,
      "outputs": [
        {
          "output_type": "display_data",
          "data": {
            "text/plain": [
              "<Figure size 2000x1000 with 1 Axes>"
            ],
            "image/png": "[encoded data removed]"
          },
          "metadata": {}
        }
      ]
    },
    {
      "cell_type": "markdown",
      "source": [
        "# **How many passengers in 1st, 2nd, and 3rd class survived?**"
      ],
      "metadata": {
        "id": "l0ib_6Tga9r3"
      }
    },
    {
      "cell_type": "code",
      "source": [
        "class_survived = pd.crosstab(df['Pclass'], df['Survived'])\n",
        "print(class_survived)"
      ],
      "metadata": {
        "id": "uVMKChcYbL7H",
        "colab": {
          "base_uri": "https://localhost:8080/"
        },
        "outputId": "fe2826c9-7a62-4f29-f2cf-7127b8bf1b35"
      },
      "execution_count": null,
      "outputs": [
        {
          "output_type": "stream",
          "name": "stdout",
          "text": [
            "Survived    0    1\n",
            "Pclass            \n",
            "1          80  136\n",
            "2          97   87\n",
            "3         372  119\n"
          ]
        }
      ]
    },
    {
      "cell_type": "code",
      "source": [
        "fig, ax = plt.subplots(figsize=(10, 5))\n",
        "sns.countplot(data=df, x='Pclass', hue='Survived')\n",
        "plt.title('Classwise Passenger Survival Numbers')\n",
        "plt.show()"
      ],
      "metadata": {
        "id": "Ju4fWGJVbUHv",
        "colab": {
          "base_uri": "https://localhost:8080/",
          "height": 480
        },
        "outputId": "a471dcf8-5314-4761-cf16-5182f1c294ab"
      },
      "execution_count": null,
      "outputs": [
        {
          "output_type": "display_data",
          "data": {
            "text/plain": [
              "<Figure size 1000x500 with 1 Axes>"
            ],
            "image/png": "[encoded data removed]"
          },
          "metadata": {}
        }
      ]
    },
    {
      "cell_type": "markdown",
      "source": [
        "# **How many passengers from different ports survived?**"
      ],
      "metadata": {
        "id": "E3n1u-UVb4aR"
      }
    },
    {
      "cell_type": "code",
      "source": [
        "port_survived = pd.crosstab(df['Embarked'], df['Survived'])\n",
        "print(class_survived)"
      ],
      "metadata": {
        "id": "XdjBQnNscAHA",
        "colab": {
          "base_uri": "https://localhost:8080/"
        },
        "outputId": "c4f269c9-29a2-4e55-f201-ece19f2ce18f"
      },
      "execution_count": null,
      "outputs": [
        {
          "output_type": "stream",
          "name": "stdout",
          "text": [
            "Survived    0    1\n",
            "Pclass            \n",
            "1          80  136\n",
            "2          97   87\n",
            "3         372  119\n"
          ]
        }
      ]
    },
    {
      "cell_type": "code",
      "source": [
        "fig, ax = plt.subplots(figsize=(10, 5))\n",
        "sns.countplot(data=df, x='Embarked', hue='Survived')\n",
        "plt.title('Embarked Passenger Survival Numbers')\n",
        "plt.show()"
      ],
      "metadata": {
        "id": "7yy1T7MxcBIf",
        "colab": {
          "base_uri": "https://localhost:8080/",
          "height": 480
        },
        "outputId": "4098945b-23d6-41b8-bc6a-165b9ad35ed8"
      },
      "execution_count": null,
      "outputs": [
        {
          "output_type": "display_data",
          "data": {
            "text/plain": [
              "<Figure size 1000x500 with 1 Axes>"
            ],
            "image/png": "[encoded data removed]"
          },
          "metadata": {}
        }
      ]
    },
    {
      "cell_type": "markdown",
      "source": [
        "# **KNN Application**"
      ],
      "metadata": {
        "id": "9jDYyQ0jbiMf"
      }
    },
    {
      "cell_type": "code",
      "source": [
        "df.head(5)"
      ],
      "metadata": {
        "id": "I6p1y8ylbhtI",
        "colab": {
          "base_uri": "https://localhost:8080/",
          "height": 424
        },
        "outputId": "e26d2662-cb68-4098-a625-385fb93e3b6d"
      },
      "execution_count": null,
      "outputs": [
        {
          "output_type": "execute_result",
          "data": {
            "text/plain": [
              "   PassengerId  Survived  Pclass  \\\n",
              "0            1         0       3   \n",
              "1            2         1       1   \n",
              "2            3         1       3   \n",
              "3            4         1       1   \n",
              "4            5         0       3   \n",
              "\n",
              "                                                Name     Sex   Age  SibSp  \\\n",
              "0                            Braund, Mr. Owen Harris    male  22.0      1   \n",
              "1  Cumings, Mrs. John Bradley (Florence Briggs Th...  female  38.0      1   \n",
              "2                             Heikkinen, Miss. Laina  female  26.0      0   \n",
              "3       Futrelle, Mrs. Jacques Heath (Lily May Peel)  female  35.0      1   \n",
              "4                           Allen, Mr. William Henry    male  35.0      0   \n",
              "\n",
              "   Parch            Ticket     Fare Cabin Embarked  \n",
              "0      0         A/5 21171   7.2500   NaN        S  \n",
              "1      0          PC 17599  71.2833   C85        C  \n",
              "2      0  STON/O2. 3101282   7.9250   NaN        S  \n",
              "3      0            113803  53.1000  C123        S  \n",
              "4      0            373450   8.0500   NaN        S  "
            ],
            "text/html": [
              "\n",
              "\n",
              "  <div id=\"df-aabf5226-41fb-454c-afd9-366a19c6b630\">\n",
              "    <div class=\"colab-df-container\">\n",
              "      <div>\n",
              "<style scoped>\n",
              "    .dataframe tbody tr th:only-of-type {\n",
              "        vertical-align: middle;\n",
              "    }\n",
              "\n",
              "    .dataframe tbody tr th {\n",
              "        vertical-align: top;\n",
              "    }\n",
              "\n",
              "    .dataframe thead th {\n",
              "        text-align: right;\n",
              "    }\n",
              "</style>\n",
              "<table border=\"1\" class=\"dataframe\">\n",
              "  <thead>\n",
              "    <tr style=\"text-align: right;\">\n",
              "      <th></th>\n",
              "      <th>PassengerId</th>\n",
              "      <th>Survived</th>\n",
              "      <th>Pclass</th>\n",
              "      <th>Name</th>\n",
              "      <th>Sex</th>\n",
              "      <th>Age</th>\n",
              "      <th>SibSp</th>\n",
              "      <th>Parch</th>\n",
              "      <th>Ticket</th>\n",
              "      <th>Fare</th>\n",
              "      <th>Cabin</th>\n",
              "      <th>Embarked</th>\n",
              "    </tr>\n",
              "  </thead>\n",
              "  <tbody>\n",
              "    <tr>\n",
              "      <th>0</th>\n",
              "      <td>1</td>\n",
              "      <td>0</td>\n",
              "      <td>3</td>\n",
              "      <td>Braund, Mr. Owen Harris</td>\n",
              "      <td>male</td>\n",
              "      <td>22.0</td>\n",
              "      <td>1</td>\n",
              "      <td>0</td>\n",
              "      <td>A/5 21171</td>\n",
              "      <td>7.2500</td>\n",
              "      <td>NaN</td>\n",
              "      <td>S</td>\n",
              "    </tr>\n",
              "    <tr>\n",
              "      <th>1</th>\n",
              "      <td>2</td>\n",
              "      <td>1</td>\n",
              "      <td>1</td>\n",
              "      <td>Cumings, Mrs. John Bradley (Florence Briggs Th...</td>\n",
              "      <td>female</td>\n",
              "      <td>38.0</td>\n",
              "      <td>1</td>\n",
              "      <td>0</td>\n",
              "      <td>PC 17599</td>\n",
              "      <td>71.2833</td>\n",
              "      <td>C85</td>\n",
              "      <td>C</td>\n",
              "    </tr>\n",
              "    <tr>\n",
              "      <th>2</th>\n",
              "      <td>3</td>\n",
              "      <td>1</td>\n",
              "      <td>3</td>\n",
              "      <td>Heikkinen, Miss. Laina</td>\n",
              "      <td>female</td>\n",
              "      <td>26.0</td>\n",
              "      <td>0</td>\n",
              "      <td>0</td>\n",
              "      <td>STON/O2. 3101282</td>\n",
              "      <td>7.9250</td>\n",
              "      <td>NaN</td>\n",
              "      <td>S</td>\n",
              "    </tr>\n",
              "    <tr>\n",
              "      <th>3</th>\n",
              "      <td>4</td>\n",
              "      <td>1</td>\n",
              "      <td>1</td>\n",
              "      <td>Futrelle, Mrs. Jacques Heath (Lily May Peel)</td>\n",
              "      <td>female</td>\n",
              "      <td>35.0</td>\n",
              "      <td>1</td>\n",
              "      <td>0</td>\n",
              "      <td>113803</td>\n",
              "      <td>53.1000</td>\n",
              "      <td>C123</td>\n",
              "      <td>S</td>\n",
              "    </tr>\n",
              "    <tr>\n",
              "      <th>4</th>\n",
              "      <td>5</td>\n",
              "      <td>0</td>\n",
              "      <td>3</td>\n",
              "      <td>Allen, Mr. William Henry</td>\n",
              "      <td>male</td>\n",
              "      <td>35.0</td>\n",
              "      <td>0</td>\n",
              "      <td>0</td>\n",
              "      <td>373450</td>\n",
              "      <td>8.0500</td>\n",
              "      <td>NaN</td>\n",
              "      <td>S</td>\n",
              "    </tr>\n",
              "  </tbody>\n",
              "</table>\n",
              "</div>\n",
              "      <button class=\"colab-df-convert\" onclick=\"convertToInteractive('df-aabf5226-41fb-454c-afd9-366a19c6b630')\"\n",
              "              title=\"Convert this dataframe to an interactive table.\"\n",
              "              style=\"display:none;\">\n",
              "\n",
              "  <svg xmlns=\"http://www.w3.org/2000/svg\" height=\"24px\"viewBox=\"0 0 24 24\"\n",
              "       width=\"24px\">\n",
              "    <path d=\"M0 0h24v24H0V0z\" fill=\"none\"/>\n",
              "    <path d=\"M18.56 5.44l.94 2.06.94-2.06 2.06-.94-2.06-.94-.94-2.06-.94 2.06-2.06.94zm-11 1L8.5 8.5l.94-2.06 2.06-.94-2.06-.94L8.5 2.5l-.94 2.06-2.06.94zm10 10l.94 2.06.94-2.06 2.06-.94-2.06-.94-.94-2.06-.94 2.06-2.06.94z\"/><path d=\"M17.41 7.96l-1.37-1.37c-.4-.4-.92-.59-1.43-.59-.52 0-1.04.2-1.43.59L10.3 9.45l-7.72 7.72c-.78.78-.78 2.05 0 2.83L4 21.41c.39.39.9.59 1.41.59.51 0 1.02-.2 1.41-.59l7.78-7.78 2.81-2.81c.8-.78.8-2.07 0-2.86zM5.41 20L4 18.59l7.72-7.72 1.47 1.35L5.41 20z\"/>\n",
              "  </svg>\n",
              "      </button>\n",
              "\n",
              "\n",
              "\n",
              "    <div id=\"df-8732126b-7a50-4ee6-a4be-0bda93b95708\">\n",
              "      <button class=\"colab-df-quickchart\" onclick=\"quickchart('df-8732126b-7a50-4ee6-a4be-0bda93b95708')\"\n",
              "              title=\"Suggest charts.\"\n",
              "              style=\"display:none;\">\n",
              "\n",
              "<svg xmlns=\"http://www.w3.org/2000/svg\" height=\"24px\"viewBox=\"0 0 24 24\"\n",
              "     width=\"24px\">\n",
              "    <g>\n",
              "        <path d=\"M19 3H5c-1.1 0-2 .9-2 2v14c0 1.1.9 2 2 2h14c1.1 0 2-.9 2-2V5c0-1.1-.9-2-2-2zM9 17H7v-7h2v7zm4 0h-2V7h2v10zm4 0h-2v-4h2v4z\"/>\n",
              "    </g>\n",
              "</svg>\n",
              "      </button>\n",
              "    </div>\n",
              "\n",
              "<style>\n",
              "  .colab-df-quickchart {\n",
              "    background-color: #E8F0FE;\n",
              "    border: none;\n",
              "    border-radius: 50%;\n",
              "    cursor: pointer;\n",
              "    display: none;\n",
              "    fill: #1967D2;\n",
              "    height: 32px;\n",
              "    padding: 0 0 0 0;\n",
              "    width: 32px;\n",
              "  }\n",
              "\n",
              "  .colab-df-quickchart:hover {\n",
              "    background-color: #E2EBFA;\n",
              "    box-shadow: 0px 1px 2px rgba(60, 64, 67, 0.3), 0px 1px 3px 1px rgba(60, 64, 67, 0.15);\n",
              "    fill: #174EA6;\n",
              "  }\n",
              "\n",
              "  [theme=dark] .colab-df-quickchart {\n",
              "    background-color: #3B4455;\n",
              "    fill: #D2E3FC;\n",
              "  }\n",
              "\n",
              "  [theme=dark] .colab-df-quickchart:hover {\n",
              "    background-color: #434B5C;\n",
              "    box-shadow: 0px 1px 3px 1px rgba(0, 0, 0, 0.15);\n",
              "    filter: drop-shadow(0px 1px 2px rgba(0, 0, 0, 0.3));\n",
              "    fill: #FFFFFF;\n",
              "  }\n",
              "</style>\n",
              "\n",
              "    <script>\n",
              "      async function quickchart(key) {\n",
              "        const containerElement = document.querySelector('#' + key);\n",
              "        const charts = await google.colab.kernel.invokeFunction(\n",
              "            'suggestCharts', [key], {});\n",
              "      }\n",
              "    </script>\n",
              "\n",
              "      <script>\n",
              "\n",
              "function displayQuickchartButton(domScope) {\n",
              "  let quickchartButtonEl =\n",
              "    domScope.querySelector('#df-8732126b-7a50-4ee6-a4be-0bda93b95708 button.colab-df-quickchart');\n",
              "  quickchartButtonEl.style.display =\n",
              "    google.colab.kernel.accessAllowed ? 'block' : 'none';\n",
              "}\n",
              "\n",
              "        displayQuickchartButton(document);\n",
              "      </script>\n",
              "      <style>\n",
              "    .colab-df-container {\n",
              "      display:flex;\n",
              "      flex-wrap:wrap;\n",
              "      gap: 12px;\n",
              "    }\n",
              "\n",
              "    .colab-df-convert {\n",
              "      background-color: #E8F0FE;\n",
              "      border: none;\n",
              "      border-radius: 50%;\n",
              "      cursor: pointer;\n",
              "      display: none;\n",
              "      fill: #1967D2;\n",
              "      height: 32px;\n",
              "      padding: 0 0 0 0;\n",
              "      width: 32px;\n",
              "    }\n",
              "\n",
              "    .colab-df-convert:hover {\n",
              "      background-color: #E2EBFA;\n",
              "      box-shadow: 0px 1px 2px rgba(60, 64, 67, 0.3), 0px 1px 3px 1px rgba(60, 64, 67, 0.15);\n",
              "      fill: #174EA6;\n",
              "    }\n",
              "\n",
              "    [theme=dark] .colab-df-convert {\n",
              "      background-color: #3B4455;\n",
              "      fill: #D2E3FC;\n",
              "    }\n",
              "\n",
              "    [theme=dark] .colab-df-convert:hover {\n",
              "      background-color: #434B5C;\n",
              "      box-shadow: 0px 1px 3px 1px rgba(0, 0, 0, 0.15);\n",
              "      filter: drop-shadow(0px 1px 2px rgba(0, 0, 0, 0.3));\n",
              "      fill: #FFFFFF;\n",
              "    }\n",
              "  </style>\n",
              "\n",
              "      <script>\n",
              "        const buttonEl =\n",
              "          document.querySelector('#df-aabf5226-41fb-454c-afd9-366a19c6b630 button.colab-df-convert');\n",
              "        buttonEl.style.display =\n",
              "          google.colab.kernel.accessAllowed ? 'block' : 'none';\n",
              "\n",
              "        async function convertToInteractive(key) {\n",
              "          const element = document.querySelector('#df-aabf5226-41fb-454c-afd9-366a19c6b630');\n",
              "          const dataTable =\n",
              "            await google.colab.kernel.invokeFunction('convertToInteractive',\n",
              "                                                     [key], {});\n",
              "          if (!dataTable) return;\n",
              "\n",
              "          const docLinkHtml = 'Like what you see? Visit the ' +\n",
              "            '<a target=\"_blank\" href=https://colab.research.google.com/notebooks/data_table.ipynb>data table notebook</a>'\n",
              "            + ' to learn more about interactive tables.';\n",
              "          element.innerHTML = '';\n",
              "          dataTable['output_type'] = 'display_data';\n",
              "          await google.colab.output.renderOutput(dataTable, element);\n",
              "          const docLink = document.createElement('div');\n",
              "          docLink.innerHTML = docLinkHtml;\n",
              "          element.appendChild(docLink);\n",
              "        }\n",
              "      </script>\n",
              "    </div>\n",
              "  </div>\n"
            ]
          },
          "metadata": {},
          "execution_count": 18
        }
      ]
    },
    {
      "cell_type": "code",
      "source": [
        "new_df = df.drop(['PassengerId','Name','Ticket','Cabin'],axis =1)\n",
        "new_df.head(3)"
      ],
      "metadata": {
        "id": "YMx9loGYbnUf",
        "colab": {
          "base_uri": "https://localhost:8080/",
          "height": 143
        },
        "outputId": "66e8ccfe-e71b-40a2-b563-c169d9d5ed54"
      },
      "execution_count": null,
      "outputs": [
        {
          "output_type": "execute_result",
          "data": {
            "text/plain": [
              "   Survived  Pclass     Sex   Age  SibSp  Parch     Fare Embarked\n",
              "0         0       3    male  22.0      1      0   7.2500        S\n",
              "1         1       1  female  38.0      1      0  71.2833        C\n",
              "2         1       3  female  26.0      0      0   7.9250        S"
            ],
            "text/html": [
              "\n",
              "\n",
              "  <div id=\"df-deea5bc2-ae66-41e5-ac58-a46395ce04f0\">\n",
              "    <div class=\"colab-df-container\">\n",
              "      <div>\n",
              "<style scoped>\n",
              "    .dataframe tbody tr th:only-of-type {\n",
              "        vertical-align: middle;\n",
              "    }\n",
              "\n",
              "    .dataframe tbody tr th {\n",
              "        vertical-align: top;\n",
              "    }\n",
              "\n",
              "    .dataframe thead th {\n",
              "        text-align: right;\n",
              "    }\n",
              "</style>\n",
              "<table border=\"1\" class=\"dataframe\">\n",
              "  <thead>\n",
              "    <tr style=\"text-align: right;\">\n",
              "      <th></th>\n",
              "      <th>Survived</th>\n",
              "      <th>Pclass</th>\n",
              "      <th>Sex</th>\n",
              "      <th>Age</th>\n",
              "      <th>SibSp</th>\n",
              "      <th>Parch</th>\n",
              "      <th>Fare</th>\n",
              "      <th>Embarked</th>\n",
              "    </tr>\n",
              "  </thead>\n",
              "  <tbody>\n",
              "    <tr>\n",
              "      <th>0</th>\n",
              "      <td>0</td>\n",
              "      <td>3</td>\n",
              "      <td>male</td>\n",
              "      <td>22.0</td>\n",
              "      <td>1</td>\n",
              "      <td>0</td>\n",
              "      <td>7.2500</td>\n",
              "      <td>S</td>\n",
              "    </tr>\n",
              "    <tr>\n",
              "      <th>1</th>\n",
              "      <td>1</td>\n",
              "      <td>1</td>\n",
              "      <td>female</td>\n",
              "      <td>38.0</td>\n",
              "      <td>1</td>\n",
              "      <td>0</td>\n",
              "      <td>71.2833</td>\n",
              "      <td>C</td>\n",
              "    </tr>\n",
              "    <tr>\n",
              "      <th>2</th>\n",
              "      <td>1</td>\n",
              "      <td>3</td>\n",
              "      <td>female</td>\n",
              "      <td>26.0</td>\n",
              "      <td>0</td>\n",
              "      <td>0</td>\n",
              "      <td>7.9250</td>\n",
              "      <td>S</td>\n",
              "    </tr>\n",
              "  </tbody>\n",
              "</table>\n",
              "</div>\n",
              "      <button class=\"colab-df-convert\" onclick=\"convertToInteractive('df-deea5bc2-ae66-41e5-ac58-a46395ce04f0')\"\n",
              "              title=\"Convert this dataframe to an interactive table.\"\n",
              "              style=\"display:none;\">\n",
              "\n",
              "  <svg xmlns=\"http://www.w3.org/2000/svg\" height=\"24px\"viewBox=\"0 0 24 24\"\n",
              "       width=\"24px\">\n",
              "    <path d=\"M0 0h24v24H0V0z\" fill=\"none\"/>\n",
              "    <path d=\"M18.56 5.44l.94 2.06.94-2.06 2.06-.94-2.06-.94-.94-2.06-.94 2.06-2.06.94zm-11 1L8.5 8.5l.94-2.06 2.06-.94-2.06-.94L8.5 2.5l-.94 2.06-2.06.94zm10 10l.94 2.06.94-2.06 2.06-.94-2.06-.94-.94-2.06-.94 2.06-2.06.94z\"/><path d=\"M17.41 7.96l-1.37-1.37c-.4-.4-.92-.59-1.43-.59-.52 0-1.04.2-1.43.59L10.3 9.45l-7.72 7.72c-.78.78-.78 2.05 0 2.83L4 21.41c.39.39.9.59 1.41.59.51 0 1.02-.2 1.41-.59l7.78-7.78 2.81-2.81c.8-.78.8-2.07 0-2.86zM5.41 20L4 18.59l7.72-7.72 1.47 1.35L5.41 20z\"/>\n",
              "  </svg>\n",
              "      </button>\n",
              "\n",
              "\n",
              "\n",
              "    <div id=\"df-750b056f-5c10-499c-aa2b-149a971f8d65\">\n",
              "      <button class=\"colab-df-quickchart\" onclick=\"quickchart('df-750b056f-5c10-499c-aa2b-149a971f8d65')\"\n",
              "              title=\"Suggest charts.\"\n",
              "              style=\"display:none;\">\n",
              "\n",
              "<svg xmlns=\"http://www.w3.org/2000/svg\" height=\"24px\"viewBox=\"0 0 24 24\"\n",
              "     width=\"24px\">\n",
              "    <g>\n",
              "        <path d=\"M19 3H5c-1.1 0-2 .9-2 2v14c0 1.1.9 2 2 2h14c1.1 0 2-.9 2-2V5c0-1.1-.9-2-2-2zM9 17H7v-7h2v7zm4 0h-2V7h2v10zm4 0h-2v-4h2v4z\"/>\n",
              "    </g>\n",
              "</svg>\n",
              "      </button>\n",
              "    </div>\n",
              "\n",
              "<style>\n",
              "  .colab-df-quickchart {\n",
              "    background-color: #E8F0FE;\n",
              "    border: none;\n",
              "    border-radius: 50%;\n",
              "    cursor: pointer;\n",
              "    display: none;\n",
              "    fill: #1967D2;\n",
              "    height: 32px;\n",
              "    padding: 0 0 0 0;\n",
              "    width: 32px;\n",
              "  }\n",
              "\n",
              "  .colab-df-quickchart:hover {\n",
              "    background-color: #E2EBFA;\n",
              "    box-shadow: 0px 1px 2px rgba(60, 64, 67, 0.3), 0px 1px 3px 1px rgba(60, 64, 67, 0.15);\n",
              "    fill: #174EA6;\n",
              "  }\n",
              "\n",
              "  [theme=dark] .colab-df-quickchart {\n",
              "    background-color: #3B4455;\n",
              "    fill: #D2E3FC;\n",
              "  }\n",
              "\n",
              "  [theme=dark] .colab-df-quickchart:hover {\n",
              "    background-color: #434B5C;\n",
              "    box-shadow: 0px 1px 3px 1px rgba(0, 0, 0, 0.15);\n",
              "    filter: drop-shadow(0px 1px 2px rgba(0, 0, 0, 0.3));\n",
              "    fill: #FFFFFF;\n",
              "  }\n",
              "</style>\n",
              "\n",
              "    <script>\n",
              "      async function quickchart(key) {\n",
              "        const containerElement = document.querySelector('#' + key);\n",
              "        const charts = await google.colab.kernel.invokeFunction(\n",
              "            'suggestCharts', [key], {});\n",
              "      }\n",
              "    </script>\n",
              "\n",
              "      <script>\n",
              "\n",
              "function displayQuickchartButton(domScope) {\n",
              "  let quickchartButtonEl =\n",
              "    domScope.querySelector('#df-750b056f-5c10-499c-aa2b-149a971f8d65 button.colab-df-quickchart');\n",
              "  quickchartButtonEl.style.display =\n",
              "    google.colab.kernel.accessAllowed ? 'block' : 'none';\n",
              "}\n",
              "\n",
              "        displayQuickchartButton(document);\n",
              "      </script>\n",
              "      <style>\n",
              "    .colab-df-container {\n",
              "      display:flex;\n",
              "      flex-wrap:wrap;\n",
              "      gap: 12px;\n",
              "    }\n",
              "\n",
              "    .colab-df-convert {\n",
              "      background-color: #E8F0FE;\n",
              "      border: none;\n",
              "      border-radius: 50%;\n",
              "      cursor: pointer;\n",
              "      display: none;\n",
              "      fill: #1967D2;\n",
              "      height: 32px;\n",
              "      padding: 0 0 0 0;\n",
              "      width: 32px;\n",
              "    }\n",
              "\n",
              "    .colab-df-convert:hover {\n",
              "      background-color: #E2EBFA;\n",
              "      box-shadow: 0px 1px 2px rgba(60, 64, 67, 0.3), 0px 1px 3px 1px rgba(60, 64, 67, 0.15);\n",
              "      fill: #174EA6;\n",
              "    }\n",
              "\n",
              "    [theme=dark] .colab-df-convert {\n",
              "      background-color: #3B4455;\n",
              "      fill: #D2E3FC;\n",
              "    }\n",
              "\n",
              "    [theme=dark] .colab-df-convert:hover {\n",
              "      background-color: #434B5C;\n",
              "      box-shadow: 0px 1px 3px 1px rgba(0, 0, 0, 0.15);\n",
              "      filter: drop-shadow(0px 1px 2px rgba(0, 0, 0, 0.3));\n",
              "      fill: #FFFFFF;\n",
              "    }\n",
              "  </style>\n",
              "\n",
              "      <script>\n",
              "        const buttonEl =\n",
              "          document.querySelector('#df-deea5bc2-ae66-41e5-ac58-a46395ce04f0 button.colab-df-convert');\n",
              "        buttonEl.style.display =\n",
              "          google.colab.kernel.accessAllowed ? 'block' : 'none';\n",
              "\n",
              "        async function convertToInteractive(key) {\n",
              "          const element = document.querySelector('#df-deea5bc2-ae66-41e5-ac58-a46395ce04f0');\n",
              "          const dataTable =\n",
              "            await google.colab.kernel.invokeFunction('convertToInteractive',\n",
              "                                                     [key], {});\n",
              "          if (!dataTable) return;\n",
              "\n",
              "          const docLinkHtml = 'Like what you see? Visit the ' +\n",
              "            '<a target=\"_blank\" href=https://colab.research.google.com/notebooks/data_table.ipynb>data table notebook</a>'\n",
              "            + ' to learn more about interactive tables.';\n",
              "          element.innerHTML = '';\n",
              "          dataTable['output_type'] = 'display_data';\n",
              "          await google.colab.output.renderOutput(dataTable, element);\n",
              "          const docLink = document.createElement('div');\n",
              "          docLink.innerHTML = docLinkHtml;\n",
              "          element.appendChild(docLink);\n",
              "        }\n",
              "      </script>\n",
              "    </div>\n",
              "  </div>\n"
            ]
          },
          "metadata": {},
          "execution_count": 19
        }
      ]
    },
    {
      "cell_type": "code",
      "source": [
        "from sklearn.preprocessing import LabelEncoder\n",
        "\n",
        "lb = LabelEncoder()\n",
        "new_df['Embarked'] = lb.fit_transform(new_df['Embarked'])\n",
        "lb2 = LabelEncoder()\n",
        "new_df['Sex'] = lb2.fit_transform(new_df['Sex'])\n",
        "new_df"
      ],
      "metadata": {
        "id": "qORSYQkTbnZA",
        "colab": {
          "base_uri": "https://localhost:8080/",
          "height": 424
        },
        "outputId": "5e0d54ea-a59e-40d4-a79d-69d08be78249"
      },
      "execution_count": null,
      "outputs": [
        {
          "output_type": "execute_result",
          "data": {
            "text/plain": [
              "     Survived  Pclass  Sex   Age  SibSp  Parch     Fare  Embarked\n",
              "0           0       3    1  22.0      1      0   7.2500         2\n",
              "1           1       1    0  38.0      1      0  71.2833         0\n",
              "2           1       3    0  26.0      0      0   7.9250         2\n",
              "3           1       1    0  35.0      1      0  53.1000         2\n",
              "4           0       3    1  35.0      0      0   8.0500         2\n",
              "..        ...     ...  ...   ...    ...    ...      ...       ...\n",
              "886         0       2    1  27.0      0      0  13.0000         2\n",
              "887         1       1    0  19.0      0      0  30.0000         2\n",
              "888         0       3    0   NaN      1      2  23.4500         2\n",
              "889         1       1    1  26.0      0      0  30.0000         0\n",
              "890         0       3    1  32.0      0      0   7.7500         1\n",
              "\n",
              "[891 rows x 8 columns]"
            ],
            "text/html": [
              "\n",
              "\n",
              "  <div id=\"df-6ff949fd-bf9a-47e1-a8ca-4a0145578b92\">\n",
              "    <div class=\"colab-df-container\">\n",
              "      <div>\n",
              "<style scoped>\n",
              "    .dataframe tbody tr th:only-of-type {\n",
              "        vertical-align: middle;\n",
              "    }\n",
              "\n",
              "    .dataframe tbody tr th {\n",
              "        vertical-align: top;\n",
              "    }\n",
              "\n",
              "    .dataframe thead th {\n",
              "        text-align: right;\n",
              "    }\n",
              "</style>\n",
              "<table border=\"1\" class=\"dataframe\">\n",
              "  <thead>\n",
              "    <tr style=\"text-align: right;\">\n",
              "      <th></th>\n",
              "      <th>Survived</th>\n",
              "      <th>Pclass</th>\n",
              "      <th>Sex</th>\n",
              "      <th>Age</th>\n",
              "      <th>SibSp</th>\n",
              "      <th>Parch</th>\n",
              "      <th>Fare</th>\n",
              "      <th>Embarked</th>\n",
              "    </tr>\n",
              "  </thead>\n",
              "  <tbody>\n",
              "    <tr>\n",
              "      <th>0</th>\n",
              "      <td>0</td>\n",
              "      <td>3</td>\n",
              "      <td>1</td>\n",
              "      <td>22.0</td>\n",
              "      <td>1</td>\n",
              "      <td>0</td>\n",
              "      <td>7.2500</td>\n",
              "      <td>2</td>\n",
              "    </tr>\n",
              "    <tr>\n",
              "      <th>1</th>\n",
              "      <td>1</td>\n",
              "      <td>1</td>\n",
              "      <td>0</td>\n",
              "      <td>38.0</td>\n",
              "      <td>1</td>\n",
              "      <td>0</td>\n",
              "      <td>71.2833</td>\n",
              "      <td>0</td>\n",
              "    </tr>\n",
              "    <tr>\n",
              "      <th>2</th>\n",
              "      <td>1</td>\n",
              "      <td>3</td>\n",
              "      <td>0</td>\n",
              "      <td>26.0</td>\n",
              "      <td>0</td>\n",
              "      <td>0</td>\n",
              "      <td>7.9250</td>\n",
              "      <td>2</td>\n",
              "    </tr>\n",
              "    <tr>\n",
              "      <th>3</th>\n",
              "      <td>1</td>\n",
              "      <td>1</td>\n",
              "      <td>0</td>\n",
              "      <td>35.0</td>\n",
              "      <td>1</td>\n",
              "      <td>0</td>\n",
              "      <td>53.1000</td>\n",
              "      <td>2</td>\n",
              "    </tr>\n",
              "    <tr>\n",
              "      <th>4</th>\n",
              "      <td>0</td>\n",
              "      <td>3</td>\n",
              "      <td>1</td>\n",
              "      <td>35.0</td>\n",
              "      <td>0</td>\n",
              "      <td>0</td>\n",
              "      <td>8.0500</td>\n",
              "      <td>2</td>\n",
              "    </tr>\n",
              "    <tr>\n",
              "      <th>...</th>\n",
              "      <td>...</td>\n",
              "      <td>...</td>\n",
              "      <td>...</td>\n",
              "      <td>...</td>\n",
              "      <td>...</td>\n",
              "      <td>...</td>\n",
              "      <td>...</td>\n",
              "      <td>...</td>\n",
              "    </tr>\n",
              "    <tr>\n",
              "      <th>886</th>\n",
              "      <td>0</td>\n",
              "      <td>2</td>\n",
              "      <td>1</td>\n",
              "      <td>27.0</td>\n",
              "      <td>0</td>\n",
              "      <td>0</td>\n",
              "      <td>13.0000</td>\n",
              "      <td>2</td>\n",
              "    </tr>\n",
              "    <tr>\n",
              "      <th>887</th>\n",
              "      <td>1</td>\n",
              "      <td>1</td>\n",
              "      <td>0</td>\n",
              "      <td>19.0</td>\n",
              "      <td>0</td>\n",
              "      <td>0</td>\n",
              "      <td>30.0000</td>\n",
              "      <td>2</td>\n",
              "    </tr>\n",
              "    <tr>\n",
              "      <th>888</th>\n",
              "      <td>0</td>\n",
              "      <td>3</td>\n",
              "      <td>0</td>\n",
              "      <td>NaN</td>\n",
              "      <td>1</td>\n",
              "      <td>2</td>\n",
              "      <td>23.4500</td>\n",
              "      <td>2</td>\n",
              "    </tr>\n",
              "    <tr>\n",
              "      <th>889</th>\n",
              "      <td>1</td>\n",
              "      <td>1</td>\n",
              "      <td>1</td>\n",
              "      <td>26.0</td>\n",
              "      <td>0</td>\n",
              "      <td>0</td>\n",
              "      <td>30.0000</td>\n",
              "      <td>0</td>\n",
              "    </tr>\n",
              "    <tr>\n",
              "      <th>890</th>\n",
              "      <td>0</td>\n",
              "      <td>3</td>\n",
              "      <td>1</td>\n",
              "      <td>32.0</td>\n",
              "      <td>0</td>\n",
              "      <td>0</td>\n",
              "      <td>7.7500</td>\n",
              "      <td>1</td>\n",
              "    </tr>\n",
              "  </tbody>\n",
              "</table>\n",
              "<p>891 rows × 8 columns</p>\n",
              "</div>\n",
              "      <button class=\"colab-df-convert\" onclick=\"convertToInteractive('df-6ff949fd-bf9a-47e1-a8ca-4a0145578b92')\"\n",
              "              title=\"Convert this dataframe to an interactive table.\"\n",
              "              style=\"display:none;\">\n",
              "\n",
              "  <svg xmlns=\"http://www.w3.org/2000/svg\" height=\"24px\"viewBox=\"0 0 24 24\"\n",
              "       width=\"24px\">\n",
              "    <path d=\"M0 0h24v24H0V0z\" fill=\"none\"/>\n",
              "    <path d=\"M18.56 5.44l.94 2.06.94-2.06 2.06-.94-2.06-.94-.94-2.06-.94 2.06-2.06.94zm-11 1L8.5 8.5l.94-2.06 2.06-.94-2.06-.94L8.5 2.5l-.94 2.06-2.06.94zm10 10l.94 2.06.94-2.06 2.06-.94-2.06-.94-.94-2.06-.94 2.06-2.06.94z\"/><path d=\"M17.41 7.96l-1.37-1.37c-.4-.4-.92-.59-1.43-.59-.52 0-1.04.2-1.43.59L10.3 9.45l-7.72 7.72c-.78.78-.78 2.05 0 2.83L4 21.41c.39.39.9.59 1.41.59.51 0 1.02-.2 1.41-.59l7.78-7.78 2.81-2.81c.8-.78.8-2.07 0-2.86zM5.41 20L4 18.59l7.72-7.72 1.47 1.35L5.41 20z\"/>\n",
              "  </svg>\n",
              "      </button>\n",
              "\n",
              "\n",
              "\n",
              "    <div id=\"df-6324f64d-bfc1-42ca-84bb-2290d4ac4624\">\n",
              "      <button class=\"colab-df-quickchart\" onclick=\"quickchart('df-6324f64d-bfc1-42ca-84bb-2290d4ac4624')\"\n",
              "              title=\"Suggest charts.\"\n",
              "              style=\"display:none;\">\n",
              "\n",
              "<svg xmlns=\"http://www.w3.org/2000/svg\" height=\"24px\"viewBox=\"0 0 24 24\"\n",
              "     width=\"24px\">\n",
              "    <g>\n",
              "        <path d=\"M19 3H5c-1.1 0-2 .9-2 2v14c0 1.1.9 2 2 2h14c1.1 0 2-.9 2-2V5c0-1.1-.9-2-2-2zM9 17H7v-7h2v7zm4 0h-2V7h2v10zm4 0h-2v-4h2v4z\"/>\n",
              "    </g>\n",
              "</svg>\n",
              "      </button>\n",
              "    </div>\n",
              "\n",
              "<style>\n",
              "  .colab-df-quickchart {\n",
              "    background-color: #E8F0FE;\n",
              "    border: none;\n",
              "    border-radius: 50%;\n",
              "    cursor: pointer;\n",
              "    display: none;\n",
              "    fill: #1967D2;\n",
              "    height: 32px;\n",
              "    padding: 0 0 0 0;\n",
              "    width: 32px;\n",
              "  }\n",
              "\n",
              "  .colab-df-quickchart:hover {\n",
              "    background-color: #E2EBFA;\n",
              "    box-shadow: 0px 1px 2px rgba(60, 64, 67, 0.3), 0px 1px 3px 1px rgba(60, 64, 67, 0.15);\n",
              "    fill: #174EA6;\n",
              "  }\n",
              "\n",
              "  [theme=dark] .colab-df-quickchart {\n",
              "    background-color: #3B4455;\n",
              "    fill: #D2E3FC;\n",
              "  }\n",
              "\n",
              "  [theme=dark] .colab-df-quickchart:hover {\n",
              "    background-color: #434B5C;\n",
              "    box-shadow: 0px 1px 3px 1px rgba(0, 0, 0, 0.15);\n",
              "    filter: drop-shadow(0px 1px 2px rgba(0, 0, 0, 0.3));\n",
              "    fill: #FFFFFF;\n",
              "  }\n",
              "</style>\n",
              "\n",
              "    <script>\n",
              "      async function quickchart(key) {\n",
              "        const containerElement = document.querySelector('#' + key);\n",
              "        const charts = await google.colab.kernel.invokeFunction(\n",
              "            'suggestCharts', [key], {});\n",
              "      }\n",
              "    </script>\n",
              "\n",
              "      <script>\n",
              "\n",
              "function displayQuickchartButton(domScope) {\n",
              "  let quickchartButtonEl =\n",
              "    domScope.querySelector('#df-6324f64d-bfc1-42ca-84bb-2290d4ac4624 button.colab-df-quickchart');\n",
              "  quickchartButtonEl.style.display =\n",
              "    google.colab.kernel.accessAllowed ? 'block' : 'none';\n",
              "}\n",
              "\n",
              "        displayQuickchartButton(document);\n",
              "      </script>\n",
              "      <style>\n",
              "    .colab-df-container {\n",
              "      display:flex;\n",
              "      flex-wrap:wrap;\n",
              "      gap: 12px;\n",
              "    }\n",
              "\n",
              "    .colab-df-convert {\n",
              "      background-color: #E8F0FE;\n",
              "      border: none;\n",
              "      border-radius: 50%;\n",
              "      cursor: pointer;\n",
              "      display: none;\n",
              "      fill: #1967D2;\n",
              "      height: 32px;\n",
              "      padding: 0 0 0 0;\n",
              "      width: 32px;\n",
              "    }\n",
              "\n",
              "    .colab-df-convert:hover {\n",
              "      background-color: #E2EBFA;\n",
              "      box-shadow: 0px 1px 2px rgba(60, 64, 67, 0.3), 0px 1px 3px 1px rgba(60, 64, 67, 0.15);\n",
              "      fill: #174EA6;\n",
              "    }\n",
              "\n",
              "    [theme=dark] .colab-df-convert {\n",
              "      background-color: #3B4455;\n",
              "      fill: #D2E3FC;\n",
              "    }\n",
              "\n",
              "    [theme=dark] .colab-df-convert:hover {\n",
              "      background-color: #434B5C;\n",
              "      box-shadow: 0px 1px 3px 1px rgba(0, 0, 0, 0.15);\n",
              "      filter: drop-shadow(0px 1px 2px rgba(0, 0, 0, 0.3));\n",
              "      fill: #FFFFFF;\n",
              "    }\n",
              "  </style>\n",
              "\n",
              "      <script>\n",
              "        const buttonEl =\n",
              "          document.querySelector('#df-6ff949fd-bf9a-47e1-a8ca-4a0145578b92 button.colab-df-convert');\n",
              "        buttonEl.style.display =\n",
              "          google.colab.kernel.accessAllowed ? 'block' : 'none';\n",
              "\n",
              "        async function convertToInteractive(key) {\n",
              "          const element = document.querySelector('#df-6ff949fd-bf9a-47e1-a8ca-4a0145578b92');\n",
              "          const dataTable =\n",
              "            await google.colab.kernel.invokeFunction('convertToInteractive',\n",
              "                                                     [key], {});\n",
              "          if (!dataTable) return;\n",
              "\n",
              "          const docLinkHtml = 'Like what you see? Visit the ' +\n",
              "            '<a target=\"_blank\" href=https://colab.research.google.com/notebooks/data_table.ipynb>data table notebook</a>'\n",
              "            + ' to learn more about interactive tables.';\n",
              "          element.innerHTML = '';\n",
              "          dataTable['output_type'] = 'display_data';\n",
              "          await google.colab.output.renderOutput(dataTable, element);\n",
              "          const docLink = document.createElement('div');\n",
              "          docLink.innerHTML = docLinkHtml;\n",
              "          element.appendChild(docLink);\n",
              "        }\n",
              "      </script>\n",
              "    </div>\n",
              "  </div>\n"
            ]
          },
          "metadata": {},
          "execution_count": 20
        }
      ]
    },
    {
      "cell_type": "code",
      "source": [
        "lb2.classes_"
      ],
      "metadata": {
        "colab": {
          "base_uri": "https://localhost:8080/"
        },
        "id": "PyfPW99Uyild",
        "outputId": "7542e623-85e7-4087-bd6d-dc88a8697c3b"
      },
      "execution_count": null,
      "outputs": [
        {
          "output_type": "execute_result",
          "data": {
            "text/plain": [
              "array(['female', 'male'], dtype=object)"
            ]
          },
          "metadata": {},
          "execution_count": 21
        }
      ]
    },
    {
      "cell_type": "code",
      "source": [
        "new_df.isnull().sum()"
      ],
      "metadata": {
        "id": "nLZdHQ97cc1o",
        "colab": {
          "base_uri": "https://localhost:8080/"
        },
        "outputId": "302d1795-d4a7-4f4b-c29f-7d5218831eb4"
      },
      "execution_count": null,
      "outputs": [
        {
          "output_type": "execute_result",
          "data": {
            "text/plain": [
              "Survived      0\n",
              "Pclass        0\n",
              "Sex           0\n",
              "Age         177\n",
              "SibSp         0\n",
              "Parch         0\n",
              "Fare          0\n",
              "Embarked      0\n",
              "dtype: int64"
            ]
          },
          "metadata": {},
          "execution_count": 22
        }
      ]
    },
    {
      "cell_type": "code",
      "source": [
        "import numpy as np\n",
        "print(np.mean(new_df['Age']))"
      ],
      "metadata": {
        "id": "Ek8NzSo6cokP",
        "colab": {
          "base_uri": "https://localhost:8080/"
        },
        "outputId": "67636eac-e797-4eb8-8c86-2af154e091ed"
      },
      "execution_count": null,
      "outputs": [
        {
          "output_type": "stream",
          "name": "stdout",
          "text": [
            "29.69911764705882\n"
          ]
        }
      ]
    },
    {
      "cell_type": "code",
      "source": [
        "new_df['Age'] = new_df['Age'].fillna(np.mean(new_df['Age']))"
      ],
      "metadata": {
        "id": "Bh7YA0nVcyIX"
      },
      "execution_count": null,
      "outputs": []
    },
    {
      "cell_type": "code",
      "source": [
        "new_df.isnull().sum()"
      ],
      "metadata": {
        "id": "W4eD1qGHcooj",
        "colab": {
          "base_uri": "https://localhost:8080/"
        },
        "outputId": "19fc2568-9b89-4d2a-bc4c-3bae3f1e1f1a"
      },
      "execution_count": null,
      "outputs": [
        {
          "output_type": "execute_result",
          "data": {
            "text/plain": [
              "Survived    0\n",
              "Pclass      0\n",
              "Sex         0\n",
              "Age         0\n",
              "SibSp       0\n",
              "Parch       0\n",
              "Fare        0\n",
              "Embarked    0\n",
              "dtype: int64"
            ]
          },
          "metadata": {},
          "execution_count": 25
        }
      ]
    },
    {
      "cell_type": "code",
      "source": [
        "x = new_df.drop(['Survived'],axis = 1)\n",
        "y = new_df['Survived']"
      ],
      "metadata": {
        "id": "DaB2jUfOd8mA"
      },
      "execution_count": null,
      "outputs": []
    },
    {
      "cell_type": "code",
      "source": [
        "x"
      ],
      "metadata": {
        "id": "3Ksyg3KoeEWY",
        "colab": {
          "base_uri": "https://localhost:8080/",
          "height": 424
        },
        "outputId": "034d33b2-243d-445e-f708-1b4b1bac3299"
      },
      "execution_count": null,
      "outputs": [
        {
          "output_type": "execute_result",
          "data": {
            "text/plain": [
              "     Pclass  Sex        Age  SibSp  Parch     Fare  Embarked\n",
              "0         3    1  22.000000      1      0   7.2500         2\n",
              "1         1    0  38.000000      1      0  71.2833         0\n",
              "2         3    0  26.000000      0      0   7.9250         2\n",
              "3         1    0  35.000000      1      0  53.1000         2\n",
              "4         3    1  35.000000      0      0   8.0500         2\n",
              "..      ...  ...        ...    ...    ...      ...       ...\n",
              "886       2    1  27.000000      0      0  13.0000         2\n",
              "887       1    0  19.000000      0      0  30.0000         2\n",
              "888       3    0  29.699118      1      2  23.4500         2\n",
              "889       1    1  26.000000      0      0  30.0000         0\n",
              "890       3    1  32.000000      0      0   7.7500         1\n",
              "\n",
              "[891 rows x 7 columns]"
            ],
            "text/html": [
              "\n",
              "\n",
              "  <div id=\"df-5c020950-65bc-44a3-b780-e97dd465e798\">\n",
              "    <div class=\"colab-df-container\">\n",
              "      <div>\n",
              "<style scoped>\n",
              "    .dataframe tbody tr th:only-of-type {\n",
              "        vertical-align: middle;\n",
              "    }\n",
              "\n",
              "    .dataframe tbody tr th {\n",
              "        vertical-align: top;\n",
              "    }\n",
              "\n",
              "    .dataframe thead th {\n",
              "        text-align: right;\n",
              "    }\n",
              "</style>\n",
              "<table border=\"1\" class=\"dataframe\">\n",
              "  <thead>\n",
              "    <tr style=\"text-align: right;\">\n",
              "      <th></th>\n",
              "      <th>Pclass</th>\n",
              "      <th>Sex</th>\n",
              "      <th>Age</th>\n",
              "      <th>SibSp</th>\n",
              "      <th>Parch</th>\n",
              "      <th>Fare</th>\n",
              "      <th>Embarked</th>\n",
              "    </tr>\n",
              "  </thead>\n",
              "  <tbody>\n",
              "    <tr>\n",
              "      <th>0</th>\n",
              "      <td>3</td>\n",
              "      <td>1</td>\n",
              "      <td>22.000000</td>\n",
              "      <td>1</td>\n",
              "      <td>0</td>\n",
              "      <td>7.2500</td>\n",
              "      <td>2</td>\n",
              "    </tr>\n",
              "    <tr>\n",
              "      <th>1</th>\n",
              "      <td>1</td>\n",
              "      <td>0</td>\n",
              "      <td>38.000000</td>\n",
              "      <td>1</td>\n",
              "      <td>0</td>\n",
              "      <td>71.2833</td>\n",
              "      <td>0</td>\n",
              "    </tr>\n",
              "    <tr>\n",
              "      <th>2</th>\n",
              "      <td>3</td>\n",
              "      <td>0</td>\n",
              "      <td>26.000000</td>\n",
              "      <td>0</td>\n",
              "      <td>0</td>\n",
              "      <td>7.9250</td>\n",
              "      <td>2</td>\n",
              "    </tr>\n",
              "    <tr>\n",
              "      <th>3</th>\n",
              "      <td>1</td>\n",
              "      <td>0</td>\n",
              "      <td>35.000000</td>\n",
              "      <td>1</td>\n",
              "      <td>0</td>\n",
              "      <td>53.1000</td>\n",
              "      <td>2</td>\n",
              "    </tr>\n",
              "    <tr>\n",
              "      <th>4</th>\n",
              "      <td>3</td>\n",
              "      <td>1</td>\n",
              "      <td>35.000000</td>\n",
              "      <td>0</td>\n",
              "      <td>0</td>\n",
              "      <td>8.0500</td>\n",
              "      <td>2</td>\n",
              "    </tr>\n",
              "    <tr>\n",
              "      <th>...</th>\n",
              "      <td>...</td>\n",
              "      <td>...</td>\n",
              "      <td>...</td>\n",
              "      <td>...</td>\n",
              "      <td>...</td>\n",
              "      <td>...</td>\n",
              "      <td>...</td>\n",
              "    </tr>\n",
              "    <tr>\n",
              "      <th>886</th>\n",
              "      <td>2</td>\n",
              "      <td>1</td>\n",
              "      <td>27.000000</td>\n",
              "      <td>0</td>\n",
              "      <td>0</td>\n",
              "      <td>13.0000</td>\n",
              "      <td>2</td>\n",
              "    </tr>\n",
              "    <tr>\n",
              "      <th>887</th>\n",
              "      <td>1</td>\n",
              "      <td>0</td>\n",
              "      <td>19.000000</td>\n",
              "      <td>0</td>\n",
              "      <td>0</td>\n",
              "      <td>30.0000</td>\n",
              "      <td>2</td>\n",
              "    </tr>\n",
              "    <tr>\n",
              "      <th>888</th>\n",
              "      <td>3</td>\n",
              "      <td>0</td>\n",
              "      <td>29.699118</td>\n",
              "      <td>1</td>\n",
              "      <td>2</td>\n",
              "      <td>23.4500</td>\n",
              "      <td>2</td>\n",
              "    </tr>\n",
              "    <tr>\n",
              "      <th>889</th>\n",
              "      <td>1</td>\n",
              "      <td>1</td>\n",
              "      <td>26.000000</td>\n",
              "      <td>0</td>\n",
              "      <td>0</td>\n",
              "      <td>30.0000</td>\n",
              "      <td>0</td>\n",
              "    </tr>\n",
              "    <tr>\n",
              "      <th>890</th>\n",
              "      <td>3</td>\n",
              "      <td>1</td>\n",
              "      <td>32.000000</td>\n",
              "      <td>0</td>\n",
              "      <td>0</td>\n",
              "      <td>7.7500</td>\n",
              "      <td>1</td>\n",
              "    </tr>\n",
              "  </tbody>\n",
              "</table>\n",
              "<p>891 rows × 7 columns</p>\n",
              "</div>\n",
              "      <button class=\"colab-df-convert\" onclick=\"convertToInteractive('df-5c020950-65bc-44a3-b780-e97dd465e798')\"\n",
              "              title=\"Convert this dataframe to an interactive table.\"\n",
              "              style=\"display:none;\">\n",
              "\n",
              "  <svg xmlns=\"http://www.w3.org/2000/svg\" height=\"24px\"viewBox=\"0 0 24 24\"\n",
              "       width=\"24px\">\n",
              "    <path d=\"M0 0h24v24H0V0z\" fill=\"none\"/>\n",
              "    <path d=\"M18.56 5.44l.94 2.06.94-2.06 2.06-.94-2.06-.94-.94-2.06-.94 2.06-2.06.94zm-11 1L8.5 8.5l.94-2.06 2.06-.94-2.06-.94L8.5 2.5l-.94 2.06-2.06.94zm10 10l.94 2.06.94-2.06 2.06-.94-2.06-.94-.94-2.06-.94 2.06-2.06.94z\"/><path d=\"M17.41 7.96l-1.37-1.37c-.4-.4-.92-.59-1.43-.59-.52 0-1.04.2-1.43.59L10.3 9.45l-7.72 7.72c-.78.78-.78 2.05 0 2.83L4 21.41c.39.39.9.59 1.41.59.51 0 1.02-.2 1.41-.59l7.78-7.78 2.81-2.81c.8-.78.8-2.07 0-2.86zM5.41 20L4 18.59l7.72-7.72 1.47 1.35L5.41 20z\"/>\n",
              "  </svg>\n",
              "      </button>\n",
              "\n",
              "\n",
              "\n",
              "    <div id=\"df-6d231b40-ec5a-4050-9c01-4f491a5c55b1\">\n",
              "      <button class=\"colab-df-quickchart\" onclick=\"quickchart('df-6d231b40-ec5a-4050-9c01-4f491a5c55b1')\"\n",
              "              title=\"Suggest charts.\"\n",
              "              style=\"display:none;\">\n",
              "\n",
              "<svg xmlns=\"http://www.w3.org/2000/svg\" height=\"24px\"viewBox=\"0 0 24 24\"\n",
              "     width=\"24px\">\n",
              "    <g>\n",
              "        <path d=\"M19 3H5c-1.1 0-2 .9-2 2v14c0 1.1.9 2 2 2h14c1.1 0 2-.9 2-2V5c0-1.1-.9-2-2-2zM9 17H7v-7h2v7zm4 0h-2V7h2v10zm4 0h-2v-4h2v4z\"/>\n",
              "    </g>\n",
              "</svg>\n",
              "      </button>\n",
              "    </div>\n",
              "\n",
              "<style>\n",
              "  .colab-df-quickchart {\n",
              "    background-color: #E8F0FE;\n",
              "    border: none;\n",
              "    border-radius: 50%;\n",
              "    cursor: pointer;\n",
              "    display: none;\n",
              "    fill: #1967D2;\n",
              "    height: 32px;\n",
              "    padding: 0 0 0 0;\n",
              "    width: 32px;\n",
              "  }\n",
              "\n",
              "  .colab-df-quickchart:hover {\n",
              "    background-color: #E2EBFA;\n",
              "    box-shadow: 0px 1px 2px rgba(60, 64, 67, 0.3), 0px 1px 3px 1px rgba(60, 64, 67, 0.15);\n",
              "    fill: #174EA6;\n",
              "  }\n",
              "\n",
              "  [theme=dark] .colab-df-quickchart {\n",
              "    background-color: #3B4455;\n",
              "    fill: #D2E3FC;\n",
              "  }\n",
              "\n",
              "  [theme=dark] .colab-df-quickchart:hover {\n",
              "    background-color: #434B5C;\n",
              "    box-shadow: 0px 1px 3px 1px rgba(0, 0, 0, 0.15);\n",
              "    filter: drop-shadow(0px 1px 2px rgba(0, 0, 0, 0.3));\n",
              "    fill: #FFFFFF;\n",
              "  }\n",
              "</style>\n",
              "\n",
              "    <script>\n",
              "      async function quickchart(key) {\n",
              "        const containerElement = document.querySelector('#' + key);\n",
              "        const charts = await google.colab.kernel.invokeFunction(\n",
              "            'suggestCharts', [key], {});\n",
              "      }\n",
              "    </script>\n",
              "\n",
              "      <script>\n",
              "\n",
              "function displayQuickchartButton(domScope) {\n",
              "  let quickchartButtonEl =\n",
              "    domScope.querySelector('#df-6d231b40-ec5a-4050-9c01-4f491a5c55b1 button.colab-df-quickchart');\n",
              "  quickchartButtonEl.style.display =\n",
              "    google.colab.kernel.accessAllowed ? 'block' : 'none';\n",
              "}\n",
              "\n",
              "        displayQuickchartButton(document);\n",
              "      </script>\n",
              "      <style>\n",
              "    .colab-df-container {\n",
              "      display:flex;\n",
              "      flex-wrap:wrap;\n",
              "      gap: 12px;\n",
              "    }\n",
              "\n",
              "    .colab-df-convert {\n",
              "      background-color: #E8F0FE;\n",
              "      border: none;\n",
              "      border-radius: 50%;\n",
              "      cursor: pointer;\n",
              "      display: none;\n",
              "      fill: #1967D2;\n",
              "      height: 32px;\n",
              "      padding: 0 0 0 0;\n",
              "      width: 32px;\n",
              "    }\n",
              "\n",
              "    .colab-df-convert:hover {\n",
              "      background-color: #E2EBFA;\n",
              "      box-shadow: 0px 1px 2px rgba(60, 64, 67, 0.3), 0px 1px 3px 1px rgba(60, 64, 67, 0.15);\n",
              "      fill: #174EA6;\n",
              "    }\n",
              "\n",
              "    [theme=dark] .colab-df-convert {\n",
              "      background-color: #3B4455;\n",
              "      fill: #D2E3FC;\n",
              "    }\n",
              "\n",
              "    [theme=dark] .colab-df-convert:hover {\n",
              "      background-color: #434B5C;\n",
              "      box-shadow: 0px 1px 3px 1px rgba(0, 0, 0, 0.15);\n",
              "      filter: drop-shadow(0px 1px 2px rgba(0, 0, 0, 0.3));\n",
              "      fill: #FFFFFF;\n",
              "    }\n",
              "  </style>\n",
              "\n",
              "      <script>\n",
              "        const buttonEl =\n",
              "          document.querySelector('#df-5c020950-65bc-44a3-b780-e97dd465e798 button.colab-df-convert');\n",
              "        buttonEl.style.display =\n",
              "          google.colab.kernel.accessAllowed ? 'block' : 'none';\n",
              "\n",
              "        async function convertToInteractive(key) {\n",
              "          const element = document.querySelector('#df-5c020950-65bc-44a3-b780-e97dd465e798');\n",
              "          const dataTable =\n",
              "            await google.colab.kernel.invokeFunction('convertToInteractive',\n",
              "                                                     [key], {});\n",
              "          if (!dataTable) return;\n",
              "\n",
              "          const docLinkHtml = 'Like what you see? Visit the ' +\n",
              "            '<a target=\"_blank\" href=https://colab.research.google.com/notebooks/data_table.ipynb>data table notebook</a>'\n",
              "            + ' to learn more about interactive tables.';\n",
              "          element.innerHTML = '';\n",
              "          dataTable['output_type'] = 'display_data';\n",
              "          await google.colab.output.renderOutput(dataTable, element);\n",
              "          const docLink = document.createElement('div');\n",
              "          docLink.innerHTML = docLinkHtml;\n",
              "          element.appendChild(docLink);\n",
              "        }\n",
              "      </script>\n",
              "    </div>\n",
              "  </div>\n"
            ]
          },
          "metadata": {},
          "execution_count": 27
        }
      ]
    },
    {
      "cell_type": "code",
      "source": [
        "y"
      ],
      "metadata": {
        "id": "l78P8C92eEyg",
        "colab": {
          "base_uri": "https://localhost:8080/"
        },
        "outputId": "d8906625-e7ae-4521-c5b3-2e8f0c065109"
      },
      "execution_count": null,
      "outputs": [
        {
          "output_type": "execute_result",
          "data": {
            "text/plain": [
              "0      0\n",
              "1      1\n",
              "2      1\n",
              "3      1\n",
              "4      0\n",
              "      ..\n",
              "886    0\n",
              "887    1\n",
              "888    0\n",
              "889    1\n",
              "890    0\n",
              "Name: Survived, Length: 891, dtype: int64"
            ]
          },
          "metadata": {},
          "execution_count": 28
        }
      ]
    },
    {
      "cell_type": "markdown",
      "source": [
        "# **Preparing Test Data**"
      ],
      "metadata": {
        "id": "ceS76Ai7enYX"
      }
    },
    {
      "cell_type": "code",
      "source": [
        "import pandas as pd\n",
        "df2 = pd.read_csv('test.csv')\n",
        "df2"
      ],
      "metadata": {
        "id": "_MqFjD_9eprP",
        "colab": {
          "base_uri": "https://localhost:8080/",
          "height": 641
        },
        "outputId": "27a80688-7eaf-47f8-ce42-6cdcb7b2684d"
      },
      "execution_count": null,
      "outputs": [
        {
          "output_type": "execute_result",
          "data": {
            "text/plain": [
              "     PassengerId  Pclass                                          Name  \\\n",
              "0            892       3                              Kelly, Mr. James   \n",
              "1            893       3              Wilkes, Mrs. James (Ellen Needs)   \n",
              "2            894       2                     Myles, Mr. Thomas Francis   \n",
              "3            895       3                              Wirz, Mr. Albert   \n",
              "4            896       3  Hirvonen, Mrs. Alexander (Helga E Lindqvist)   \n",
              "..           ...     ...                                           ...   \n",
              "413         1305       3                            Spector, Mr. Woolf   \n",
              "414         1306       1                  Oliva y Ocana, Dona. Fermina   \n",
              "415         1307       3                  Saether, Mr. Simon Sivertsen   \n",
              "416         1308       3                           Ware, Mr. Frederick   \n",
              "417         1309       3                      Peter, Master. Michael J   \n",
              "\n",
              "        Sex   Age  SibSp  Parch              Ticket      Fare Cabin Embarked  \n",
              "0      male  34.5      0      0              330911    7.8292   NaN        Q  \n",
              "1    female  47.0      1      0              363272    7.0000   NaN        S  \n",
              "2      male  62.0      0      0              240276    9.6875   NaN        Q  \n",
              "3      male  27.0      0      0              315154    8.6625   NaN        S  \n",
              "4    female  22.0      1      1             3101298   12.2875   NaN        S  \n",
              "..      ...   ...    ...    ...                 ...       ...   ...      ...  \n",
              "413    male   NaN      0      0           A.5. 3236    8.0500   NaN        S  \n",
              "414  female  39.0      0      0            PC 17758  108.9000  C105        C  \n",
              "415    male  38.5      0      0  SOTON/O.Q. 3101262    7.2500   NaN        S  \n",
              "416    male   NaN      0      0              359309    8.0500   NaN        S  \n",
              "417    male   NaN      1      1                2668   22.3583   NaN        C  \n",
              "\n",
              "[418 rows x 11 columns]"
            ],
            "text/html": [
              "\n",
              "\n",
              "  <div id=\"df-5dabbfe1-509c-4fad-ac75-c74a43f567ee\">\n",
              "    <div class=\"colab-df-container\">\n",
              "      <div>\n",
              "<style scoped>\n",
              "    .dataframe tbody tr th:only-of-type {\n",
              "        vertical-align: middle;\n",
              "    }\n",
              "\n",
              "    .dataframe tbody tr th {\n",
              "        vertical-align: top;\n",
              "    }\n",
              "\n",
              "    .dataframe thead th {\n",
              "        text-align: right;\n",
              "    }\n",
              "</style>\n",
              "<table border=\"1\" class=\"dataframe\">\n",
              "  <thead>\n",
              "    <tr style=\"text-align: right;\">\n",
              "      <th></th>\n",
              "      <th>PassengerId</th>\n",
              "      <th>Pclass</th>\n",
              "      <th>Name</th>\n",
              "      <th>Sex</th>\n",
              "      <th>Age</th>\n",
              "      <th>SibSp</th>\n",
              "      <th>Parch</th>\n",
              "      <th>Ticket</th>\n",
              "      <th>Fare</th>\n",
              "      <th>Cabin</th>\n",
              "      <th>Embarked</th>\n",
              "    </tr>\n",
              "  </thead>\n",
              "  <tbody>\n",
              "    <tr>\n",
              "      <th>0</th>\n",
              "      <td>892</td>\n",
              "      <td>3</td>\n",
              "      <td>Kelly, Mr. James</td>\n",
              "      <td>male</td>\n",
              "      <td>34.5</td>\n",
              "      <td>0</td>\n",
              "      <td>0</td>\n",
              "      <td>330911</td>\n",
              "      <td>7.8292</td>\n",
              "      <td>NaN</td>\n",
              "      <td>Q</td>\n",
              "    </tr>\n",
              "    <tr>\n",
              "      <th>1</th>\n",
              "      <td>893</td>\n",
              "      <td>3</td>\n",
              "      <td>Wilkes, Mrs. James (Ellen Needs)</td>\n",
              "      <td>female</td>\n",
              "      <td>47.0</td>\n",
              "      <td>1</td>\n",
              "      <td>0</td>\n",
              "      <td>363272</td>\n",
              "      <td>7.0000</td>\n",
              "      <td>NaN</td>\n",
              "      <td>S</td>\n",
              "    </tr>\n",
              "    <tr>\n",
              "      <th>2</th>\n",
              "      <td>894</td>\n",
              "      <td>2</td>\n",
              "      <td>Myles, Mr. Thomas Francis</td>\n",
              "      <td>male</td>\n",
              "      <td>62.0</td>\n",
              "      <td>0</td>\n",
              "      <td>0</td>\n",
              "      <td>240276</td>\n",
              "      <td>9.6875</td>\n",
              "      <td>NaN</td>\n",
              "      <td>Q</td>\n",
              "    </tr>\n",
              "    <tr>\n",
              "      <th>3</th>\n",
              "      <td>895</td>\n",
              "      <td>3</td>\n",
              "      <td>Wirz, Mr. Albert</td>\n",
              "      <td>male</td>\n",
              "      <td>27.0</td>\n",
              "      <td>0</td>\n",
              "      <td>0</td>\n",
              "      <td>315154</td>\n",
              "      <td>8.6625</td>\n",
              "      <td>NaN</td>\n",
              "      <td>S</td>\n",
              "    </tr>\n",
              "    <tr>\n",
              "      <th>4</th>\n",
              "      <td>896</td>\n",
              "      <td>3</td>\n",
              "      <td>Hirvonen, Mrs. Alexander (Helga E Lindqvist)</td>\n",
              "      <td>female</td>\n",
              "      <td>22.0</td>\n",
              "      <td>1</td>\n",
              "      <td>1</td>\n",
              "      <td>3101298</td>\n",
              "      <td>12.2875</td>\n",
              "      <td>NaN</td>\n",
              "      <td>S</td>\n",
              "    </tr>\n",
              "    <tr>\n",
              "      <th>...</th>\n",
              "      <td>...</td>\n",
              "      <td>...</td>\n",
              "      <td>...</td>\n",
              "      <td>...</td>\n",
              "      <td>...</td>\n",
              "      <td>...</td>\n",
              "      <td>...</td>\n",
              "      <td>...</td>\n",
              "      <td>...</td>\n",
              "      <td>...</td>\n",
              "      <td>...</td>\n",
              "    </tr>\n",
              "    <tr>\n",
              "      <th>413</th>\n",
              "      <td>1305</td>\n",
              "      <td>3</td>\n",
              "      <td>Spector, Mr. Woolf</td>\n",
              "      <td>male</td>\n",
              "      <td>NaN</td>\n",
              "      <td>0</td>\n",
              "      <td>0</td>\n",
              "      <td>A.5. 3236</td>\n",
              "      <td>8.0500</td>\n",
              "      <td>NaN</td>\n",
              "      <td>S</td>\n",
              "    </tr>\n",
              "    <tr>\n",
              "      <th>414</th>\n",
              "      <td>1306</td>\n",
              "      <td>1</td>\n",
              "      <td>Oliva y Ocana, Dona. Fermina</td>\n",
              "      <td>female</td>\n",
              "      <td>39.0</td>\n",
              "      <td>0</td>\n",
              "      <td>0</td>\n",
              "      <td>PC 17758</td>\n",
              "      <td>108.9000</td>\n",
              "      <td>C105</td>\n",
              "      <td>C</td>\n",
              "    </tr>\n",
              "    <tr>\n",
              "      <th>415</th>\n",
              "      <td>1307</td>\n",
              "      <td>3</td>\n",
              "      <td>Saether, Mr. Simon Sivertsen</td>\n",
              "      <td>male</td>\n",
              "      <td>38.5</td>\n",
              "      <td>0</td>\n",
              "      <td>0</td>\n",
              "      <td>SOTON/O.Q. 3101262</td>\n",
              "      <td>7.2500</td>\n",
              "      <td>NaN</td>\n",
              "      <td>S</td>\n",
              "    </tr>\n",
              "    <tr>\n",
              "      <th>416</th>\n",
              "      <td>1308</td>\n",
              "      <td>3</td>\n",
              "      <td>Ware, Mr. Frederick</td>\n",
              "      <td>male</td>\n",
              "      <td>NaN</td>\n",
              "      <td>0</td>\n",
              "      <td>0</td>\n",
              "      <td>359309</td>\n",
              "      <td>8.0500</td>\n",
              "      <td>NaN</td>\n",
              "      <td>S</td>\n",
              "    </tr>\n",
              "    <tr>\n",
              "      <th>417</th>\n",
              "      <td>1309</td>\n",
              "      <td>3</td>\n",
              "      <td>Peter, Master. Michael J</td>\n",
              "      <td>male</td>\n",
              "      <td>NaN</td>\n",
              "      <td>1</td>\n",
              "      <td>1</td>\n",
              "      <td>2668</td>\n",
              "      <td>22.3583</td>\n",
              "      <td>NaN</td>\n",
              "      <td>C</td>\n",
              "    </tr>\n",
              "  </tbody>\n",
              "</table>\n",
              "<p>418 rows × 11 columns</p>\n",
              "</div>\n",
              "      <button class=\"colab-df-convert\" onclick=\"convertToInteractive('df-5dabbfe1-509c-4fad-ac75-c74a43f567ee')\"\n",
              "              title=\"Convert this dataframe to an interactive table.\"\n",
              "              style=\"display:none;\">\n",
              "\n",
              "  <svg xmlns=\"http://www.w3.org/2000/svg\" height=\"24px\"viewBox=\"0 0 24 24\"\n",
              "       width=\"24px\">\n",
              "    <path d=\"M0 0h24v24H0V0z\" fill=\"none\"/>\n",
              "    <path d=\"M18.56 5.44l.94 2.06.94-2.06 2.06-.94-2.06-.94-.94-2.06-.94 2.06-2.06.94zm-11 1L8.5 8.5l.94-2.06 2.06-.94-2.06-.94L8.5 2.5l-.94 2.06-2.06.94zm10 10l.94 2.06.94-2.06 2.06-.94-2.06-.94-.94-2.06-.94 2.06-2.06.94z\"/><path d=\"M17.41 7.96l-1.37-1.37c-.4-.4-.92-.59-1.43-.59-.52 0-1.04.2-1.43.59L10.3 9.45l-7.72 7.72c-.78.78-.78 2.05 0 2.83L4 21.41c.39.39.9.59 1.41.59.51 0 1.02-.2 1.41-.59l7.78-7.78 2.81-2.81c.8-.78.8-2.07 0-2.86zM5.41 20L4 18.59l7.72-7.72 1.47 1.35L5.41 20z\"/>\n",
              "  </svg>\n",
              "      </button>\n",
              "\n",
              "\n",
              "\n",
              "    <div id=\"df-7f2d56d0-d5cc-42bc-8b7c-70bffa8ab250\">\n",
              "      <button class=\"colab-df-quickchart\" onclick=\"quickchart('df-7f2d56d0-d5cc-42bc-8b7c-70bffa8ab250')\"\n",
              "              title=\"Suggest charts.\"\n",
              "              style=\"display:none;\">\n",
              "\n",
              "<svg xmlns=\"http://www.w3.org/2000/svg\" height=\"24px\"viewBox=\"0 0 24 24\"\n",
              "     width=\"24px\">\n",
              "    <g>\n",
              "        <path d=\"M19 3H5c-1.1 0-2 .9-2 2v14c0 1.1.9 2 2 2h14c1.1 0 2-.9 2-2V5c0-1.1-.9-2-2-2zM9 17H7v-7h2v7zm4 0h-2V7h2v10zm4 0h-2v-4h2v4z\"/>\n",
              "    </g>\n",
              "</svg>\n",
              "      </button>\n",
              "    </div>\n",
              "\n",
              "<style>\n",
              "  .colab-df-quickchart {\n",
              "    background-color: #E8F0FE;\n",
              "    border: none;\n",
              "    border-radius: 50%;\n",
              "    cursor: pointer;\n",
              "    display: none;\n",
              "    fill: #1967D2;\n",
              "    height: 32px;\n",
              "    padding: 0 0 0 0;\n",
              "    width: 32px;\n",
              "  }\n",
              "\n",
              "  .colab-df-quickchart:hover {\n",
              "    background-color: #E2EBFA;\n",
              "    box-shadow: 0px 1px 2px rgba(60, 64, 67, 0.3), 0px 1px 3px 1px rgba(60, 64, 67, 0.15);\n",
              "    fill: #174EA6;\n",
              "  }\n",
              "\n",
              "  [theme=dark] .colab-df-quickchart {\n",
              "    background-color: #3B4455;\n",
              "    fill: #D2E3FC;\n",
              "  }\n",
              "\n",
              "  [theme=dark] .colab-df-quickchart:hover {\n",
              "    background-color: #434B5C;\n",
              "    box-shadow: 0px 1px 3px 1px rgba(0, 0, 0, 0.15);\n",
              "    filter: drop-shadow(0px 1px 2px rgba(0, 0, 0, 0.3));\n",
              "    fill: #FFFFFF;\n",
              "  }\n",
              "</style>\n",
              "\n",
              "    <script>\n",
              "      async function quickchart(key) {\n",
              "        const containerElement = document.querySelector('#' + key);\n",
              "        const charts = await google.colab.kernel.invokeFunction(\n",
              "            'suggestCharts', [key], {});\n",
              "      }\n",
              "    </script>\n",
              "\n",
              "      <script>\n",
              "\n",
              "function displayQuickchartButton(domScope) {\n",
              "  let quickchartButtonEl =\n",
              "    domScope.querySelector('#df-7f2d56d0-d5cc-42bc-8b7c-70bffa8ab250 button.colab-df-quickchart');\n",
              "  quickchartButtonEl.style.display =\n",
              "    google.colab.kernel.accessAllowed ? 'block' : 'none';\n",
              "}\n",
              "\n",
              "        displayQuickchartButton(document);\n",
              "      </script>\n",
              "      <style>\n",
              "    .colab-df-container {\n",
              "      display:flex;\n",
              "      flex-wrap:wrap;\n",
              "      gap: 12px;\n",
              "    }\n",
              "\n",
              "    .colab-df-convert {\n",
              "      background-color: #E8F0FE;\n",
              "      border: none;\n",
              "      border-radius: 50%;\n",
              "      cursor: pointer;\n",
              "      display: none;\n",
              "      fill: #1967D2;\n",
              "      height: 32px;\n",
              "      padding: 0 0 0 0;\n",
              "      width: 32px;\n",
              "    }\n",
              "\n",
              "    .colab-df-convert:hover {\n",
              "      background-color: #E2EBFA;\n",
              "      box-shadow: 0px 1px 2px rgba(60, 64, 67, 0.3), 0px 1px 3px 1px rgba(60, 64, 67, 0.15);\n",
              "      fill: #174EA6;\n",
              "    }\n",
              "\n",
              "    [theme=dark] .colab-df-convert {\n",
              "      background-color: #3B4455;\n",
              "      fill: #D2E3FC;\n",
              "    }\n",
              "\n",
              "    [theme=dark] .colab-df-convert:hover {\n",
              "      background-color: #434B5C;\n",
              "      box-shadow: 0px 1px 3px 1px rgba(0, 0, 0, 0.15);\n",
              "      filter: drop-shadow(0px 1px 2px rgba(0, 0, 0, 0.3));\n",
              "      fill: #FFFFFF;\n",
              "    }\n",
              "  </style>\n",
              "\n",
              "      <script>\n",
              "        const buttonEl =\n",
              "          document.querySelector('#df-5dabbfe1-509c-4fad-ac75-c74a43f567ee button.colab-df-convert');\n",
              "        buttonEl.style.display =\n",
              "          google.colab.kernel.accessAllowed ? 'block' : 'none';\n",
              "\n",
              "        async function convertToInteractive(key) {\n",
              "          const element = document.querySelector('#df-5dabbfe1-509c-4fad-ac75-c74a43f567ee');\n",
              "          const dataTable =\n",
              "            await google.colab.kernel.invokeFunction('convertToInteractive',\n",
              "                                                     [key], {});\n",
              "          if (!dataTable) return;\n",
              "\n",
              "          const docLinkHtml = 'Like what you see? Visit the ' +\n",
              "            '<a target=\"_blank\" href=https://colab.research.google.com/notebooks/data_table.ipynb>data table notebook</a>'\n",
              "            + ' to learn more about interactive tables.';\n",
              "          element.innerHTML = '';\n",
              "          dataTable['output_type'] = 'display_data';\n",
              "          await google.colab.output.renderOutput(dataTable, element);\n",
              "          const docLink = document.createElement('div');\n",
              "          docLink.innerHTML = docLinkHtml;\n",
              "          element.appendChild(docLink);\n",
              "        }\n",
              "      </script>\n",
              "    </div>\n",
              "  </div>\n"
            ]
          },
          "metadata": {},
          "execution_count": 29
        }
      ]
    },
    {
      "cell_type": "code",
      "source": [
        "new_df2 = df2.drop(['PassengerId','Name','Ticket','Cabin'],axis =1)\n",
        "\n",
        "new_df2['Embarked'] = lb.transform(new_df2['Embarked'])\n",
        "new_df2['Sex'] = lb2.transform(new_df2['Sex'])\n",
        "\n",
        "new_df2.isnull().sum()"
      ],
      "metadata": {
        "id": "1BFSWxZye5M4",
        "colab": {
          "base_uri": "https://localhost:8080/"
        },
        "outputId": "1029b44e-7b55-4a6b-96a1-76a75d1afa54"
      },
      "execution_count": null,
      "outputs": [
        {
          "output_type": "execute_result",
          "data": {
            "text/plain": [
              "Pclass       0\n",
              "Sex          0\n",
              "Age         86\n",
              "SibSp        0\n",
              "Parch        0\n",
              "Fare         1\n",
              "Embarked     0\n",
              "dtype: int64"
            ]
          },
          "metadata": {},
          "execution_count": 30
        }
      ]
    },
    {
      "cell_type": "code",
      "source": [
        "new_df2['Age'] = new_df2['Age'].fillna(np.mean(new_df2['Age']))"
      ],
      "metadata": {
        "id": "_F08pI-Gfbvm"
      },
      "execution_count": null,
      "outputs": []
    },
    {
      "cell_type": "code",
      "source": [
        "new_df2['Fare'] = new_df2['Fare'].fillna(np.mean(new_df2['Fare']))"
      ],
      "metadata": {
        "id": "YeDbQGnufb0O"
      },
      "execution_count": null,
      "outputs": []
    },
    {
      "cell_type": "code",
      "source": [
        "new_df2.isnull().sum()"
      ],
      "metadata": {
        "id": "1-SYTFrbfjG5",
        "colab": {
          "base_uri": "https://localhost:8080/"
        },
        "outputId": "9eb4686a-9b2d-44d8-af31-7cd90c84609c"
      },
      "execution_count": null,
      "outputs": [
        {
          "output_type": "execute_result",
          "data": {
            "text/plain": [
              "Pclass      0\n",
              "Sex         0\n",
              "Age         0\n",
              "SibSp       0\n",
              "Parch       0\n",
              "Fare        0\n",
              "Embarked    0\n",
              "dtype: int64"
            ]
          },
          "metadata": {},
          "execution_count": 34
        }
      ]
    },
    {
      "cell_type": "markdown",
      "source": [
        "# **BUT WE DONT HAVE GROUND TRUTH ;-;**"
      ],
      "metadata": {
        "id": "AEV_HvcLh5NR"
      }
    },
    {
      "cell_type": "markdown",
      "source": [
        "# **BACK TO TRAIN TEST SPLIT**"
      ],
      "metadata": {
        "id": "C40KUUAXiDIP"
      }
    },
    {
      "cell_type": "code",
      "source": [
        "x"
      ],
      "metadata": {
        "id": "QU2CGzFhiCeQ",
        "colab": {
          "base_uri": "https://localhost:8080/",
          "height": 424
        },
        "outputId": "dc2ecd0d-9aa5-43d1-e31b-0474f93ebf31"
      },
      "execution_count": null,
      "outputs": [
        {
          "output_type": "execute_result",
          "data": {
            "text/plain": [
              "     Pclass  Sex        Age  SibSp  Parch     Fare  Embarked\n",
              "0         3    1  22.000000      1      0   7.2500         2\n",
              "1         1    0  38.000000      1      0  71.2833         0\n",
              "2         3    0  26.000000      0      0   7.9250         2\n",
              "3         1    0  35.000000      1      0  53.1000         2\n",
              "4         3    1  35.000000      0      0   8.0500         2\n",
              "..      ...  ...        ...    ...    ...      ...       ...\n",
              "886       2    1  27.000000      0      0  13.0000         2\n",
              "887       1    0  19.000000      0      0  30.0000         2\n",
              "888       3    0  29.699118      1      2  23.4500         2\n",
              "889       1    1  26.000000      0      0  30.0000         0\n",
              "890       3    1  32.000000      0      0   7.7500         1\n",
              "\n",
              "[891 rows x 7 columns]"
            ],
            "text/html": [
              "\n",
              "\n",
              "  <div id=\"df-360c8400-210e-4318-bd55-276c6f7a1123\">\n",
              "    <div class=\"colab-df-container\">\n",
              "      <div>\n",
              "<style scoped>\n",
              "    .dataframe tbody tr th:only-of-type {\n",
              "        vertical-align: middle;\n",
              "    }\n",
              "\n",
              "    .dataframe tbody tr th {\n",
              "        vertical-align: top;\n",
              "    }\n",
              "\n",
              "    .dataframe thead th {\n",
              "        text-align: right;\n",
              "    }\n",
              "</style>\n",
              "<table border=\"1\" class=\"dataframe\">\n",
              "  <thead>\n",
              "    <tr style=\"text-align: right;\">\n",
              "      <th></th>\n",
              "      <th>Pclass</th>\n",
              "      <th>Sex</th>\n",
              "      <th>Age</th>\n",
              "      <th>SibSp</th>\n",
              "      <th>Parch</th>\n",
              "      <th>Fare</th>\n",
              "      <th>Embarked</th>\n",
              "    </tr>\n",
              "  </thead>\n",
              "  <tbody>\n",
              "    <tr>\n",
              "      <th>0</th>\n",
              "      <td>3</td>\n",
              "      <td>1</td>\n",
              "      <td>22.000000</td>\n",
              "      <td>1</td>\n",
              "      <td>0</td>\n",
              "      <td>7.2500</td>\n",
              "      <td>2</td>\n",
              "    </tr>\n",
              "    <tr>\n",
              "      <th>1</th>\n",
              "      <td>1</td>\n",
              "      <td>0</td>\n",
              "      <td>38.000000</td>\n",
              "      <td>1</td>\n",
              "      <td>0</td>\n",
              "      <td>71.2833</td>\n",
              "      <td>0</td>\n",
              "    </tr>\n",
              "    <tr>\n",
              "      <th>2</th>\n",
              "      <td>3</td>\n",
              "      <td>0</td>\n",
              "      <td>26.000000</td>\n",
              "      <td>0</td>\n",
              "      <td>0</td>\n",
              "      <td>7.9250</td>\n",
              "      <td>2</td>\n",
              "    </tr>\n",
              "    <tr>\n",
              "      <th>3</th>\n",
              "      <td>1</td>\n",
              "      <td>0</td>\n",
              "      <td>35.000000</td>\n",
              "      <td>1</td>\n",
              "      <td>0</td>\n",
              "      <td>53.1000</td>\n",
              "      <td>2</td>\n",
              "    </tr>\n",
              "    <tr>\n",
              "      <th>4</th>\n",
              "      <td>3</td>\n",
              "      <td>1</td>\n",
              "      <td>35.000000</td>\n",
              "      <td>0</td>\n",
              "      <td>0</td>\n",
              "      <td>8.0500</td>\n",
              "      <td>2</td>\n",
              "    </tr>\n",
              "    <tr>\n",
              "      <th>...</th>\n",
              "      <td>...</td>\n",
              "      <td>...</td>\n",
              "      <td>...</td>\n",
              "      <td>...</td>\n",
              "      <td>...</td>\n",
              "      <td>...</td>\n",
              "      <td>...</td>\n",
              "    </tr>\n",
              "    <tr>\n",
              "      <th>886</th>\n",
              "      <td>2</td>\n",
              "      <td>1</td>\n",
              "      <td>27.000000</td>\n",
              "      <td>0</td>\n",
              "      <td>0</td>\n",
              "      <td>13.0000</td>\n",
              "      <td>2</td>\n",
              "    </tr>\n",
              "    <tr>\n",
              "      <th>887</th>\n",
              "      <td>1</td>\n",
              "      <td>0</td>\n",
              "      <td>19.000000</td>\n",
              "      <td>0</td>\n",
              "      <td>0</td>\n",
              "      <td>30.0000</td>\n",
              "      <td>2</td>\n",
              "    </tr>\n",
              "    <tr>\n",
              "      <th>888</th>\n",
              "      <td>3</td>\n",
              "      <td>0</td>\n",
              "      <td>29.699118</td>\n",
              "      <td>1</td>\n",
              "      <td>2</td>\n",
              "      <td>23.4500</td>\n",
              "      <td>2</td>\n",
              "    </tr>\n",
              "    <tr>\n",
              "      <th>889</th>\n",
              "      <td>1</td>\n",
              "      <td>1</td>\n",
              "      <td>26.000000</td>\n",
              "      <td>0</td>\n",
              "      <td>0</td>\n",
              "      <td>30.0000</td>\n",
              "      <td>0</td>\n",
              "    </tr>\n",
              "    <tr>\n",
              "      <th>890</th>\n",
              "      <td>3</td>\n",
              "      <td>1</td>\n",
              "      <td>32.000000</td>\n",
              "      <td>0</td>\n",
              "      <td>0</td>\n",
              "      <td>7.7500</td>\n",
              "      <td>1</td>\n",
              "    </tr>\n",
              "  </tbody>\n",
              "</table>\n",
              "<p>891 rows × 7 columns</p>\n",
              "</div>\n",
              "      <button class=\"colab-df-convert\" onclick=\"convertToInteractive('df-360c8400-210e-4318-bd55-276c6f7a1123')\"\n",
              "              title=\"Convert this dataframe to an interactive table.\"\n",
              "              style=\"display:none;\">\n",
              "\n",
              "  <svg xmlns=\"http://www.w3.org/2000/svg\" height=\"24px\"viewBox=\"0 0 24 24\"\n",
              "       width=\"24px\">\n",
              "    <path d=\"M0 0h24v24H0V0z\" fill=\"none\"/>\n",
              "    <path d=\"M18.56 5.44l.94 2.06.94-2.06 2.06-.94-2.06-.94-.94-2.06-.94 2.06-2.06.94zm-11 1L8.5 8.5l.94-2.06 2.06-.94-2.06-.94L8.5 2.5l-.94 2.06-2.06.94zm10 10l.94 2.06.94-2.06 2.06-.94-2.06-.94-.94-2.06-.94 2.06-2.06.94z\"/><path d=\"M17.41 7.96l-1.37-1.37c-.4-.4-.92-.59-1.43-.59-.52 0-1.04.2-1.43.59L10.3 9.45l-7.72 7.72c-.78.78-.78 2.05 0 2.83L4 21.41c.39.39.9.59 1.41.59.51 0 1.02-.2 1.41-.59l7.78-7.78 2.81-2.81c.8-.78.8-2.07 0-2.86zM5.41 20L4 18.59l7.72-7.72 1.47 1.35L5.41 20z\"/>\n",
              "  </svg>\n",
              "      </button>\n",
              "\n",
              "\n",
              "\n",
              "    <div id=\"df-3e15f880-3f75-467c-92fe-4df04f3a7475\">\n",
              "      <button class=\"colab-df-quickchart\" onclick=\"quickchart('df-3e15f880-3f75-467c-92fe-4df04f3a7475')\"\n",
              "              title=\"Suggest charts.\"\n",
              "              style=\"display:none;\">\n",
              "\n",
              "<svg xmlns=\"http://www.w3.org/2000/svg\" height=\"24px\"viewBox=\"0 0 24 24\"\n",
              "     width=\"24px\">\n",
              "    <g>\n",
              "        <path d=\"M19 3H5c-1.1 0-2 .9-2 2v14c0 1.1.9 2 2 2h14c1.1 0 2-.9 2-2V5c0-1.1-.9-2-2-2zM9 17H7v-7h2v7zm4 0h-2V7h2v10zm4 0h-2v-4h2v4z\"/>\n",
              "    </g>\n",
              "</svg>\n",
              "      </button>\n",
              "    </div>\n",
              "\n",
              "<style>\n",
              "  .colab-df-quickchart {\n",
              "    background-color: #E8F0FE;\n",
              "    border: none;\n",
              "    border-radius: 50%;\n",
              "    cursor: pointer;\n",
              "    display: none;\n",
              "    fill: #1967D2;\n",
              "    height: 32px;\n",
              "    padding: 0 0 0 0;\n",
              "    width: 32px;\n",
              "  }\n",
              "\n",
              "  .colab-df-quickchart:hover {\n",
              "    background-color: #E2EBFA;\n",
              "    box-shadow: 0px 1px 2px rgba(60, 64, 67, 0.3), 0px 1px 3px 1px rgba(60, 64, 67, 0.15);\n",
              "    fill: #174EA6;\n",
              "  }\n",
              "\n",
              "  [theme=dark] .colab-df-quickchart {\n",
              "    background-color: #3B4455;\n",
              "    fill: #D2E3FC;\n",
              "  }\n",
              "\n",
              "  [theme=dark] .colab-df-quickchart:hover {\n",
              "    background-color: #434B5C;\n",
              "    box-shadow: 0px 1px 3px 1px rgba(0, 0, 0, 0.15);\n",
              "    filter: drop-shadow(0px 1px 2px rgba(0, 0, 0, 0.3));\n",
              "    fill: #FFFFFF;\n",
              "  }\n",
              "</style>\n",
              "\n",
              "    <script>\n",
              "      async function quickchart(key) {\n",
              "        const containerElement = document.querySelector('#' + key);\n",
              "        const charts = await google.colab.kernel.invokeFunction(\n",
              "            'suggestCharts', [key], {});\n",
              "      }\n",
              "    </script>\n",
              "\n",
              "      <script>\n",
              "\n",
              "function displayQuickchartButton(domScope) {\n",
              "  let quickchartButtonEl =\n",
              "    domScope.querySelector('#df-3e15f880-3f75-467c-92fe-4df04f3a7475 button.colab-df-quickchart');\n",
              "  quickchartButtonEl.style.display =\n",
              "    google.colab.kernel.accessAllowed ? 'block' : 'none';\n",
              "}\n",
              "\n",
              "        displayQuickchartButton(document);\n",
              "      </script>\n",
              "      <style>\n",
              "    .colab-df-container {\n",
              "      display:flex;\n",
              "      flex-wrap:wrap;\n",
              "      gap: 12px;\n",
              "    }\n",
              "\n",
              "    .colab-df-convert {\n",
              "      background-color: #E8F0FE;\n",
              "      border: none;\n",
              "      border-radius: 50%;\n",
              "      cursor: pointer;\n",
              "      display: none;\n",
              "      fill: #1967D2;\n",
              "      height: 32px;\n",
              "      padding: 0 0 0 0;\n",
              "      width: 32px;\n",
              "    }\n",
              "\n",
              "    .colab-df-convert:hover {\n",
              "      background-color: #E2EBFA;\n",
              "      box-shadow: 0px 1px 2px rgba(60, 64, 67, 0.3), 0px 1px 3px 1px rgba(60, 64, 67, 0.15);\n",
              "      fill: #174EA6;\n",
              "    }\n",
              "\n",
              "    [theme=dark] .colab-df-convert {\n",
              "      background-color: #3B4455;\n",
              "      fill: #D2E3FC;\n",
              "    }\n",
              "\n",
              "    [theme=dark] .colab-df-convert:hover {\n",
              "      background-color: #434B5C;\n",
              "      box-shadow: 0px 1px 3px 1px rgba(0, 0, 0, 0.15);\n",
              "      filter: drop-shadow(0px 1px 2px rgba(0, 0, 0, 0.3));\n",
              "      fill: #FFFFFF;\n",
              "    }\n",
              "  </style>\n",
              "\n",
              "      <script>\n",
              "        const buttonEl =\n",
              "          document.querySelector('#df-360c8400-210e-4318-bd55-276c6f7a1123 button.colab-df-convert');\n",
              "        buttonEl.style.display =\n",
              "          google.colab.kernel.accessAllowed ? 'block' : 'none';\n",
              "\n",
              "        async function convertToInteractive(key) {\n",
              "          const element = document.querySelector('#df-360c8400-210e-4318-bd55-276c6f7a1123');\n",
              "          const dataTable =\n",
              "            await google.colab.kernel.invokeFunction('convertToInteractive',\n",
              "                                                     [key], {});\n",
              "          if (!dataTable) return;\n",
              "\n",
              "          const docLinkHtml = 'Like what you see? Visit the ' +\n",
              "            '<a target=\"_blank\" href=https://colab.research.google.com/notebooks/data_table.ipynb>data table notebook</a>'\n",
              "            + ' to learn more about interactive tables.';\n",
              "          element.innerHTML = '';\n",
              "          dataTable['output_type'] = 'display_data';\n",
              "          await google.colab.output.renderOutput(dataTable, element);\n",
              "          const docLink = document.createElement('div');\n",
              "          docLink.innerHTML = docLinkHtml;\n",
              "          element.appendChild(docLink);\n",
              "        }\n",
              "      </script>\n",
              "    </div>\n",
              "  </div>\n"
            ]
          },
          "metadata": {},
          "execution_count": 35
        }
      ]
    },
    {
      "cell_type": "code",
      "source": [
        "y"
      ],
      "metadata": {
        "id": "nmF5Lu0UiKTQ",
        "colab": {
          "base_uri": "https://localhost:8080/"
        },
        "outputId": "c23070d7-b39c-4596-9640-dbb78415513e"
      },
      "execution_count": null,
      "outputs": [
        {
          "output_type": "execute_result",
          "data": {
            "text/plain": [
              "0      0\n",
              "1      1\n",
              "2      1\n",
              "3      1\n",
              "4      0\n",
              "      ..\n",
              "886    0\n",
              "887    1\n",
              "888    0\n",
              "889    1\n",
              "890    0\n",
              "Name: Survived, Length: 891, dtype: int64"
            ]
          },
          "metadata": {},
          "execution_count": 36
        }
      ]
    },
    {
      "cell_type": "code",
      "source": [
        "from sklearn.model_selection import train_test_split\n",
        "x_train, x_test, y_train, y_test = train_test_split(x, y, random_state = 42, test_size = 0.2)\n",
        "\n",
        "print(x_train.shape)\n",
        "print(y_train.shape)\n",
        "print(x_test.shape)\n",
        "print(y_test.shape)"
      ],
      "metadata": {
        "id": "KQlEm8UCiLrI",
        "colab": {
          "base_uri": "https://localhost:8080/"
        },
        "outputId": "8ddbf2ce-9a16-4bfa-923b-8fc07a3891d7"
      },
      "execution_count": null,
      "outputs": [
        {
          "output_type": "stream",
          "name": "stdout",
          "text": [
            "(712, 7)\n",
            "(712,)\n",
            "(179, 7)\n",
            "(179,)\n"
          ]
        }
      ]
    },
    {
      "cell_type": "code",
      "source": [
        "from sklearn.neighbors import KNeighborsClassifier\n",
        "\n",
        "clf = KNeighborsClassifier(n_neighbors = 5, p = 1)\n",
        "clf.fit(x_train,y_train)"
      ],
      "metadata": {
        "id": "NirBnn5AivTL",
        "colab": {
          "base_uri": "https://localhost:8080/",
          "height": 75
        },
        "outputId": "ef291001-301a-4940-86d4-ae6dd1836c6f"
      },
      "execution_count": null,
      "outputs": [
        {
          "output_type": "execute_result",
          "data": {
            "text/plain": [
              "KNeighborsClassifier(p=1)"
            ],
            "text/html": [
              "<style>#sk-container-id-1 {color: black;background-color: white;}#sk-container-id-1 pre{padding: 0;}#sk-container-id-1 div.sk-toggleable {background-color: white;}#sk-container-id-1 label.sk-toggleable__label {cursor: pointer;display: block;width: 100%;margin-bottom: 0;padding: 0.3em;box-sizing: border-box;text-align: center;}#sk-container-id-1 label.sk-toggleable__label-arrow:before {content: \"▸\";float: left;margin-right: 0.25em;color: #696969;}#sk-container-id-1 label.sk-toggleable__label-arrow:hover:before {color: black;}#sk-container-id-1 div.sk-estimator:hover label.sk-toggleable__label-arrow:before {color: black;}#sk-container-id-1 div.sk-toggleable__content {max-height: 0;max-width: 0;overflow: hidden;text-align: left;background-color: #f0f8ff;}#sk-container-id-1 div.sk-toggleable__content pre {margin: 0.2em;color: black;border-radius: 0.25em;background-color: #f0f8ff;}#sk-container-id-1 input.sk-toggleable__control:checked~div.sk-toggleable__content {max-height: 200px;max-width: 100%;overflow: auto;}#sk-container-id-1 input.sk-toggleable__control:checked~label.sk-toggleable__label-arrow:before {content: \"▾\";}#sk-container-id-1 div.sk-estimator input.sk-toggleable__control:checked~label.sk-toggleable__label {background-color: #d4ebff;}#sk-container-id-1 div.sk-label input.sk-toggleable__control:checked~label.sk-toggleable__label {background-color: #d4ebff;}#sk-container-id-1 input.sk-hidden--visually {border: 0;clip: rect(1px 1px 1px 1px);clip: rect(1px, 1px, 1px, 1px);height: 1px;margin: -1px;overflow: hidden;padding: 0;position: absolute;width: 1px;}#sk-container-id-1 div.sk-estimator {font-family: monospace;background-color: #f0f8ff;border: 1px dotted black;border-radius: 0.25em;box-sizing: border-box;margin-bottom: 0.5em;}#sk-container-id-1 div.sk-estimator:hover {background-color: #d4ebff;}#sk-container-id-1 div.sk-parallel-item::after {content: \"\";width: 100%;border-bottom: 1px solid gray;flex-grow: 1;}#sk-container-id-1 div.sk-label:hover label.sk-toggleable__label {background-color: #d4ebff;}#sk-container-id-1 div.sk-serial::before {content: \"\";position: absolute;border-left: 1px solid gray;box-sizing: border-box;top: 0;bottom: 0;left: 50%;z-index: 0;}#sk-container-id-1 div.sk-serial {display: flex;flex-direction: column;align-items: center;background-color: white;padding-right: 0.2em;padding-left: 0.2em;position: relative;}#sk-container-id-1 div.sk-item {position: relative;z-index: 1;}#sk-container-id-1 div.sk-parallel {display: flex;align-items: stretch;justify-content: center;background-color: white;position: relative;}#sk-container-id-1 div.sk-item::before, #sk-container-id-1 div.sk-parallel-item::before {content: \"\";position: absolute;border-left: 1px solid gray;box-sizing: border-box;top: 0;bottom: 0;left: 50%;z-index: -1;}#sk-container-id-1 div.sk-parallel-item {display: flex;flex-direction: column;z-index: 1;position: relative;background-color: white;}#sk-container-id-1 div.sk-parallel-item:first-child::after {align-self: flex-end;width: 50%;}#sk-container-id-1 div.sk-parallel-item:last-child::after {align-self: flex-start;width: 50%;}#sk-container-id-1 div.sk-parallel-item:only-child::after {width: 0;}#sk-container-id-1 div.sk-dashed-wrapped {border: 1px dashed gray;margin: 0 0.4em 0.5em 0.4em;box-sizing: border-box;padding-bottom: 0.4em;background-color: white;}#sk-container-id-1 div.sk-label label {font-family: monospace;font-weight: bold;display: inline-block;line-height: 1.2em;}#sk-container-id-1 div.sk-label-container {text-align: center;}#sk-container-id-1 div.sk-container {/* jupyter's `normalize.less` sets `[hidden] { display: none; }` but bootstrap.min.css set `[hidden] { display: none !important; }` so we also need the `!important` here to be able to override the default hidden behavior on the sphinx rendered scikit-learn.org. See: https://github.com/scikit-learn/scikit-learn/issues/21755 */display: inline-block !important;position: relative;}#sk-container-id-1 div.sk-text-repr-fallback {display: none;}</style><div id=\"sk-container-id-1\" class=\"sk-top-container\"><div class=\"sk-text-repr-fallback\"><pre>KNeighborsClassifier(p=1)</pre><b>In a Jupyter environment, please rerun this cell to show the HTML representation or trust the notebook. <br />On GitHub, the HTML representation is unable to render, please try loading this page with nbviewer.org.</b></div><div class=\"sk-container\" hidden><div class=\"sk-item\"><div class=\"sk-estimator sk-toggleable\"><input class=\"sk-toggleable__control sk-hidden--visually\" id=\"sk-estimator-id-1\" type=\"checkbox\" checked><label for=\"sk-estimator-id-1\" class=\"sk-toggleable__label sk-toggleable__label-arrow\">KNeighborsClassifier</label><div class=\"sk-toggleable__content\"><pre>KNeighborsClassifier(p=1)</pre></div></div></div></div></div>"
            ]
          },
          "metadata": {},
          "execution_count": 38
        }
      ]
    },
    {
      "cell_type": "code",
      "source": [
        "y_pred = clf.predict(x_test)"
      ],
      "metadata": {
        "id": "v1NHw0msjapp"
      },
      "execution_count": null,
      "outputs": []
    },
    {
      "cell_type": "code",
      "source": [
        "from sklearn.metrics import confusion_matrix,classification_report\n",
        "cm = confusion_matrix(y_test,y_pred)\n",
        "cr = classification_report(y_test,y_pred)"
      ],
      "metadata": {
        "id": "hXooi20vjjWB"
      },
      "execution_count": null,
      "outputs": []
    },
    {
      "cell_type": "code",
      "source": [
        "sns.heatmap(cm, annot=True, cmap=\"Blues\", fmt=\"d\", xticklabels=True, yticklabels=True)\n",
        "\n",
        "plt.xlabel('Predicted Labels')\n",
        "plt.ylabel('True Labels')\n",
        "plt.title('Confusion Matrix')\n",
        "\n",
        "plt.show()"
      ],
      "metadata": {
        "id": "B-FmFyoQj0nY",
        "colab": {
          "base_uri": "https://localhost:8080/",
          "height": 472
        },
        "outputId": "c1c38571-bba7-43b2-daeb-5dd146de35ce"
      },
      "execution_count": null,
      "outputs": [
        {
          "output_type": "display_data",
          "data": {
            "text/plain": [
              "<Figure size 640x480 with 2 Axes>"
            ],
            "image/png": "[encoded data removed]"
          },
          "metadata": {}
        }
      ]
    },
    {
      "cell_type": "code",
      "source": [
        "print(cr)"
      ],
      "metadata": {
        "id": "Je2kopwjj4K4",
        "colab": {
          "base_uri": "https://localhost:8080/"
        },
        "outputId": "694bee2f-2e47-4842-c767-31c974abbd51"
      },
      "execution_count": null,
      "outputs": [
        {
          "output_type": "stream",
          "name": "stdout",
          "text": [
            "              precision    recall  f1-score   support\n",
            "\n",
            "           0       0.75      0.85      0.79       105\n",
            "           1       0.73      0.59      0.66        74\n",
            "\n",
            "    accuracy                           0.74       179\n",
            "   macro avg       0.74      0.72      0.73       179\n",
            "weighted avg       0.74      0.74      0.74       179\n",
            "\n"
          ]
        }
      ]
    },
    {
      "cell_type": "markdown",
      "source": [
        "# **Best K Value**"
      ],
      "metadata": {
        "id": "N-1ZG6aCkOWB"
      }
    },
    {
      "cell_type": "code",
      "source": [
        "from sklearn.metrics import accuracy_score\n",
        "accuracies = []\n",
        "k_values = [x for x in range(1,50,2)]\n",
        "for k in k_values:\n",
        "    knn = KNeighborsClassifier(n_neighbors=k,p=1)\n",
        "    knn.fit(x_train, y_train)\n",
        "\n",
        "    y_pred = knn.predict(x_test)\n",
        "\n",
        "    acc = accuracy_score(y_test, y_pred)\n",
        "    accuracies.append(acc)"
      ],
      "metadata": {
        "id": "lIeKKP_LkQOA"
      },
      "execution_count": null,
      "outputs": []
    },
    {
      "cell_type": "code",
      "source": [
        "from sklearn.metrics import accuracy_score\n",
        "accuracies = []\n",
        "k_values = [x for x in range(1,50,2)]\n",
        "for k in k_values:\n",
        "    knn = KNeighborsClassifier(n_neighbors=k,p=1)\n",
        "    knn.fit(x_train, y_train)\n",
        "\n",
        "    y_pred = knn.predict(x_test)\n",
        "\n",
        "    acc = accuracy_score(y_test, y_pred)\n",
        "    accuracies.append(acc)\n",
        "plt.figure(figsize=(8, 6))\n",
        "plt.plot(k_values, accuracies, marker='o')\n",
        "plt.title(\"Accuracy vs. K Value for k-Nearest Neighbors\")\n",
        "plt.xlabel(\"K Value\")\n",
        "plt.ylabel(\"Accuracy\")\n",
        "plt.xticks(k_values)\n",
        "plt.grid(True)\n",
        "plt.show()"
      ],
      "metadata": {
        "id": "nFXQp7-KkRi_",
        "colab": {
          "base_uri": "https://localhost:8080/",
          "height": 564
        },
        "outputId": "1ae4d9a9-c9c2-43bb-8b05-1175d9e043ce"
      },
      "execution_count": null,
      "outputs": [
        {
          "output_type": "display_data",
          "data": {
            "text/plain": [
              "<Figure size 800x600 with 1 Axes>"
            ],
            "image/png": "[encoded data removed]"
          },
          "metadata": {}
        }
      ]
    },
    {
      "cell_type": "code",
      "source": [
        "from sklearn.neighbors import KNeighborsClassifier\n",
        "\n",
        "clf = KNeighborsClassifier(n_neighbors = 9, p = 1)\n",
        "clf.fit(x_train,y_train)\n",
        "y_pred = clf.predict(x_test)\n",
        "\n",
        "cm = confusion_matrix(y_test,y_pred)\n",
        "cr = classification_report(y_test,y_pred)\n",
        "sns.heatmap(cm, annot=True, cmap=\"Blues\", fmt=\"d\", xticklabels=True, yticklabels=True)\n",
        "\n",
        "plt.xlabel('Predicted Labels')\n",
        "plt.ylabel('True Labels')\n",
        "plt.title('Confusion Matrix')\n",
        "\n",
        "plt.show()\n",
        "print(cr)"
      ],
      "metadata": {
        "id": "11xEb0bIk2Kk",
        "colab": {
          "base_uri": "https://localhost:8080/",
          "height": 628
        },
        "outputId": "6dd7e384-9e39-4b47-8535-f713d96410d0"
      },
      "execution_count": null,
      "outputs": [
        {
          "output_type": "display_data",
          "data": {
            "text/plain": [
              "<Figure size 640x480 with 2 Axes>"
            ],
            "image/png": "[encoded data removed]"
          },
          "metadata": {}
        },
        {
          "output_type": "stream",
          "name": "stdout",
          "text": [
            "              precision    recall  f1-score   support\n",
            "\n",
            "           0       0.77      0.86      0.81       105\n",
            "           1       0.76      0.64      0.69        74\n",
            "\n",
            "    accuracy                           0.77       179\n",
            "   macro avg       0.76      0.75      0.75       179\n",
            "weighted avg       0.76      0.77      0.76       179\n",
            "\n"
          ]
        }
      ]
    },
    {
      "cell_type": "markdown",
      "source": [
        "# **0:**\n",
        "\n",
        "Precision = 90/(90+27)\n",
        "\n",
        "Recall = 90/(90+15)\n",
        "\n",
        "# **1:**\n",
        "\n",
        "Precision = 47/(47+15)\n",
        "\n",
        "Recall = 47/(47+27)"
      ],
      "metadata": {
        "id": "hfCaoIPCncgp"
      }
    },
    {
      "cell_type": "markdown",
      "source": [
        "precision = kitnay sahi predict kye vs. kitnay total woh label predict kiya\n",
        "\n",
        "recall = kitnay sahi predict kye vs. kitnay total woh label thay in the data"
      ],
      "metadata": {
        "id": "UNM0VR0Nn6w5"
      }
    },
    {
      "cell_type": "markdown",
      "source": [
        "![image.png](data:image/png;base64,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)"
      ],
      "metadata": {
        "id": "ZJlYLk0emVfC"
      }
    },
    {
      "cell_type": "markdown",
      "source": [
        "![image.png](data:image/png;base64,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)"
      ],
      "metadata": {
        "id": "G2BwCOLSpXpI"
      }
    },
    {
      "cell_type": "markdown",
      "source": [
        "Titanic data first, try using a different number of columns and parameters to get a higher accuracy (maybe scale) :)\n",
        "\n",
        "and then https://www.kaggle.com/datasets/uciml/mushroom-classification\n",
        "\n"
      ],
      "metadata": {
        "id": "M3fXP6bLrHMq"
      }
    }
  ]
}